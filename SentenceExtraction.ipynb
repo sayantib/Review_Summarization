{
 "cells": [
  {
   "cell_type": "code",
   "execution_count": 2,
   "metadata": {
    "collapsed": false
   },
   "outputs": [],
   "source": [
    "import pandas as pd\n",
    "import numpy as np\n",
    "\n",
    "\n",
    "import gzip\n",
    "from nltk.corpus import stopwords\n",
    "from nltk.stem.wordnet import WordNetLemmatizer\n",
    "import string\n",
    "import gensim\n",
    "from gensim import corpora, models, similarities\n",
    "from gensim.models.tfidfmodel import TfidfModel\n",
    "from gensim.models.ldamodel import LdaModel\n",
    "import pickle\n",
    "import pyLDAvis.gensim as gensimvis\n",
    "import pyLDAvis\n",
    "\n",
    "from bokeh.plotting import figure, show\n",
    "from bokeh.io import output_notebook\n",
    "from bokeh.palettes import Spectral6\n",
    "from ipywidgets import *\n",
    "import requests\n",
    "import ujson as json\n",
    "import random"
   ]
  },
  {
   "cell_type": "code",
   "execution_count": 4,
   "metadata": {
    "collapsed": false
   },
   "outputs": [
    {
     "data": {
      "text/html": [
       "<div>\n",
       "<table border=\"1\" class=\"dataframe\">\n",
       "  <thead>\n",
       "    <tr style=\"text-align: right;\">\n",
       "      <th></th>\n",
       "      <th>reviewerID</th>\n",
       "      <th>asin</th>\n",
       "      <th>reviewerName</th>\n",
       "      <th>helpful</th>\n",
       "      <th>unixReviewTime</th>\n",
       "      <th>reviewText</th>\n",
       "      <th>overall</th>\n",
       "      <th>reviewTime</th>\n",
       "      <th>summary</th>\n",
       "    </tr>\n",
       "  </thead>\n",
       "  <tbody>\n",
       "    <tr>\n",
       "      <th>0</th>\n",
       "      <td>A1EWN6KZ4HMLT7</td>\n",
       "      <td>011040047X</td>\n",
       "      <td>S. Prescott</td>\n",
       "      <td>[2, 2]</td>\n",
       "      <td>1344902400</td>\n",
       "      <td>The case pictured is a soft violet color, but ...</td>\n",
       "      <td>1</td>\n",
       "      <td>08 14, 2012</td>\n",
       "      <td>Wrong color</td>\n",
       "    </tr>\n",
       "    <tr>\n",
       "      <th>1</th>\n",
       "      <td>A1YX2RBMS1L9L</td>\n",
       "      <td>0110400550</td>\n",
       "      <td>Andrea Busch</td>\n",
       "      <td>[0, 0]</td>\n",
       "      <td>1353542400</td>\n",
       "      <td>Saw this same case at a theme park store for 2...</td>\n",
       "      <td>5</td>\n",
       "      <td>11 22, 2012</td>\n",
       "      <td>Great product</td>\n",
       "    </tr>\n",
       "    <tr>\n",
       "      <th>2</th>\n",
       "      <td>A180NNPPKWCCU0</td>\n",
       "      <td>0110400550</td>\n",
       "      <td>Aniya pennington</td>\n",
       "      <td>[3, 3]</td>\n",
       "      <td>1374105600</td>\n",
       "      <td>case fits perfectly and I always gets complime...</td>\n",
       "      <td>5</td>\n",
       "      <td>07 18, 2013</td>\n",
       "      <td>Perfect</td>\n",
       "    </tr>\n",
       "    <tr>\n",
       "      <th>3</th>\n",
       "      <td>A3HVRXV0LVJN7</td>\n",
       "      <td>0110400550</td>\n",
       "      <td>BiancaNicole</td>\n",
       "      <td>[4, 4]</td>\n",
       "      <td>1358035200</td>\n",
       "      <td>Best phone case ever . Everywhere I go I get a...</td>\n",
       "      <td>5</td>\n",
       "      <td>01 13, 2013</td>\n",
       "      <td>A++++</td>\n",
       "    </tr>\n",
       "    <tr>\n",
       "      <th>4</th>\n",
       "      <td>A292527VPX98P8</td>\n",
       "      <td>0110400550</td>\n",
       "      <td>Cebell</td>\n",
       "      <td>[0, 1]</td>\n",
       "      <td>1353888000</td>\n",
       "      <td>It may look cute. This case started off pretty...</td>\n",
       "      <td>1</td>\n",
       "      <td>11 26, 2012</td>\n",
       "      <td>Do NOT GET IT!!</td>\n",
       "    </tr>\n",
       "  </tbody>\n",
       "</table>\n",
       "</div>"
      ],
      "text/plain": [
       "       reviewerID        asin      reviewerName helpful  unixReviewTime  \\\n",
       "0  A1EWN6KZ4HMLT7  011040047X       S. Prescott  [2, 2]      1344902400   \n",
       "1   A1YX2RBMS1L9L  0110400550      Andrea Busch  [0, 0]      1353542400   \n",
       "2  A180NNPPKWCCU0  0110400550  Aniya pennington  [3, 3]      1374105600   \n",
       "3   A3HVRXV0LVJN7  0110400550      BiancaNicole  [4, 4]      1358035200   \n",
       "4  A292527VPX98P8  0110400550            Cebell  [0, 1]      1353888000   \n",
       "\n",
       "                                          reviewText  overall   reviewTime  \\\n",
       "0  The case pictured is a soft violet color, but ...        1  08 14, 2012   \n",
       "1  Saw this same case at a theme park store for 2...        5  11 22, 2012   \n",
       "2  case fits perfectly and I always gets complime...        5  07 18, 2013   \n",
       "3  Best phone case ever . Everywhere I go I get a...        5  01 13, 2013   \n",
       "4  It may look cute. This case started off pretty...        1  11 26, 2012   \n",
       "\n",
       "           summary  \n",
       "0      Wrong color  \n",
       "1    Great product  \n",
       "2          Perfect  \n",
       "3            A++++  \n",
       "4  Do NOT GET IT!!  "
      ]
     },
     "execution_count": 4,
     "metadata": {},
     "output_type": "execute_result"
    }
   ],
   "source": [
    "df.head()"
   ]
  },
  {
   "cell_type": "code",
   "execution_count": 3,
   "metadata": {
    "collapsed": true
   },
   "outputs": [],
   "source": [
    "asins = dict()\n",
    "categories = dict()\n",
    "reviewtextlist = list()\n",
    "review_categories = list()"
   ]
  },
  {
   "cell_type": "code",
   "execution_count": 4,
   "metadata": {
    "collapsed": true
   },
   "outputs": [],
   "source": [
    "def parse(path):\n",
    "  g = gzip.open(path, 'r')\n",
    "  for l in g:\n",
    "    yield eval(l)"
   ]
  },
  {
   "cell_type": "code",
   "execution_count": 5,
   "metadata": {
    "collapsed": true
   },
   "outputs": [],
   "source": [
    "def readMetaData(path,catname):\n",
    "    i = 0\n",
    "    for d in parse(path):\n",
    "        numCategories=0\n",
    "        title= \"Not available\"\n",
    "        if 'title' in d:\n",
    "            title=d['title']\n",
    "        if(len(d['categories']) > 0):\n",
    "            numCategories = len(d['categories'][0])\n",
    "            for i in  range(0,numCategories):\n",
    "                cat = d['categories'][0][i]\n",
    "                if cat not in categories:\n",
    "                    categories[cat]=cat\n",
    "                    review_categories.append(cat)\n",
    "                if cat == catname:\n",
    "                    asins[d['asin']] = title\n",
    "        i += 1"
   ]
  },
  {
   "cell_type": "code",
   "execution_count": 6,
   "metadata": {
    "collapsed": true
   },
   "outputs": [],
   "source": [
    "def readReviewdata(path):\n",
    "    with gzip.open(path, \"rb\") as f:\n",
    "        for line in f:\n",
    "            # print line\n",
    "            d = eval(line)\n",
    "            reviewerId = d['reviewerID']\n",
    "            asin = d['asin']\n",
    "            rating = d['overall']\n",
    "            summary = d['summary']\n",
    "            reviewText = d['reviewText']\n",
    "            dtime = d['reviewTime']\n",
    "            if asin in asins and len (reviewText)>0:\n",
    "                reviewtextlist.append(reviewText)"
   ]
  },
  {
   "cell_type": "code",
   "execution_count": 7,
   "metadata": {
    "collapsed": true
   },
   "outputs": [],
   "source": [
    "import pandas as pd \n",
    "import gzip \n",
    "\n",
    "def parse(path): \n",
    "    g = gzip.open(path, 'rb') \n",
    "    for l in g: \n",
    "        yield eval(l) \n",
    "        \n",
    "def getDF(path): \n",
    "    i = 0 \n",
    "    df = {} \n",
    "    for d in parse(path): \n",
    "        df[i] = d \n",
    "        i += 1 \n",
    "    return pd.DataFrame.from_dict(df, orient='index') "
   ]
  },
  {
   "cell_type": "code",
   "execution_count": 22,
   "metadata": {
    "collapsed": true
   },
   "outputs": [],
   "source": [
    "df = getDF('reviews_Cell_Phones_and_Accessories.json.gz')\n",
    "pickle.dump(df,open(\"dataframe10000.p\",\"wb\"))"
   ]
  },
  {
   "cell_type": "code",
   "execution_count": 8,
   "metadata": {
    "collapsed": false
   },
   "outputs": [
    {
     "data": {
      "text/html": [
       "<div>\n",
       "<table border=\"1\" class=\"dataframe\">\n",
       "  <thead>\n",
       "    <tr style=\"text-align: right;\">\n",
       "      <th></th>\n",
       "      <th>reviewerID</th>\n",
       "      <th>asin</th>\n",
       "      <th>reviewerName</th>\n",
       "      <th>helpful</th>\n",
       "      <th>unixReviewTime</th>\n",
       "      <th>reviewText</th>\n",
       "      <th>overall</th>\n",
       "      <th>reviewTime</th>\n",
       "      <th>summary</th>\n",
       "    </tr>\n",
       "  </thead>\n",
       "  <tbody>\n",
       "    <tr>\n",
       "      <th>0</th>\n",
       "      <td>A1EWN6KZ4HMLT7</td>\n",
       "      <td>011040047X</td>\n",
       "      <td>S. Prescott</td>\n",
       "      <td>[2, 2]</td>\n",
       "      <td>1344902400</td>\n",
       "      <td>The case pictured is a soft violet color, but ...</td>\n",
       "      <td>1.0</td>\n",
       "      <td>08 14, 2012</td>\n",
       "      <td>Wrong color</td>\n",
       "    </tr>\n",
       "    <tr>\n",
       "      <th>1</th>\n",
       "      <td>A1YX2RBMS1L9L</td>\n",
       "      <td>0110400550</td>\n",
       "      <td>Andrea Busch</td>\n",
       "      <td>[0, 0]</td>\n",
       "      <td>1353542400</td>\n",
       "      <td>Saw this same case at a theme park store for 2...</td>\n",
       "      <td>5.0</td>\n",
       "      <td>11 22, 2012</td>\n",
       "      <td>Great product</td>\n",
       "    </tr>\n",
       "    <tr>\n",
       "      <th>2</th>\n",
       "      <td>A180NNPPKWCCU0</td>\n",
       "      <td>0110400550</td>\n",
       "      <td>Aniya pennington</td>\n",
       "      <td>[3, 3]</td>\n",
       "      <td>1374105600</td>\n",
       "      <td>case fits perfectly and I always gets complime...</td>\n",
       "      <td>5.0</td>\n",
       "      <td>07 18, 2013</td>\n",
       "      <td>Perfect</td>\n",
       "    </tr>\n",
       "    <tr>\n",
       "      <th>3</th>\n",
       "      <td>A3HVRXV0LVJN7</td>\n",
       "      <td>0110400550</td>\n",
       "      <td>BiancaNicole</td>\n",
       "      <td>[4, 4]</td>\n",
       "      <td>1358035200</td>\n",
       "      <td>Best phone case ever . Everywhere I go I get a...</td>\n",
       "      <td>5.0</td>\n",
       "      <td>01 13, 2013</td>\n",
       "      <td>A++++</td>\n",
       "    </tr>\n",
       "    <tr>\n",
       "      <th>4</th>\n",
       "      <td>A292527VPX98P8</td>\n",
       "      <td>0110400550</td>\n",
       "      <td>Cebell</td>\n",
       "      <td>[0, 1]</td>\n",
       "      <td>1353888000</td>\n",
       "      <td>It may look cute. This case started off pretty...</td>\n",
       "      <td>1.0</td>\n",
       "      <td>11 26, 2012</td>\n",
       "      <td>Do NOT GET IT!!</td>\n",
       "    </tr>\n",
       "  </tbody>\n",
       "</table>\n",
       "</div>"
      ],
      "text/plain": [
       "       reviewerID        asin      reviewerName helpful  unixReviewTime  \\\n",
       "0  A1EWN6KZ4HMLT7  011040047X       S. Prescott  [2, 2]      1344902400   \n",
       "1   A1YX2RBMS1L9L  0110400550      Andrea Busch  [0, 0]      1353542400   \n",
       "2  A180NNPPKWCCU0  0110400550  Aniya pennington  [3, 3]      1374105600   \n",
       "3   A3HVRXV0LVJN7  0110400550      BiancaNicole  [4, 4]      1358035200   \n",
       "4  A292527VPX98P8  0110400550            Cebell  [0, 1]      1353888000   \n",
       "\n",
       "                                          reviewText  overall   reviewTime  \\\n",
       "0  The case pictured is a soft violet color, but ...      1.0  08 14, 2012   \n",
       "1  Saw this same case at a theme park store for 2...      5.0  11 22, 2012   \n",
       "2  case fits perfectly and I always gets complime...      5.0  07 18, 2013   \n",
       "3  Best phone case ever . Everywhere I go I get a...      5.0  01 13, 2013   \n",
       "4  It may look cute. This case started off pretty...      1.0  11 26, 2012   \n",
       "\n",
       "           summary  \n",
       "0      Wrong color  \n",
       "1    Great product  \n",
       "2          Perfect  \n",
       "3            A++++  \n",
       "4  Do NOT GET IT!!  "
      ]
     },
     "execution_count": 8,
     "metadata": {},
     "output_type": "execute_result"
    }
   ],
   "source": [
    "df = pickle.load(open( \"dataframe10000.p\", \"rb\" ))\n",
    "df.head()"
   ]
  },
  {
   "cell_type": "code",
   "execution_count": 9,
   "metadata": {
    "collapsed": false
   },
   "outputs": [],
   "source": [
    "df_meta = getDF('meta_Cell_Phones_and_Accessories.json.gz')\n",
    "pickle.dump(df_meta, open(\"dataframe_meta_10000.p\",\"wb\"))"
   ]
  },
  {
   "cell_type": "code",
   "execution_count": 10,
   "metadata": {
    "collapsed": false
   },
   "outputs": [],
   "source": [
    "df_meta = pickle.load(open( \"dataframe_meta_10000.p\", \"rb\" ))"
   ]
  },
  {
   "cell_type": "code",
   "execution_count": 11,
   "metadata": {
    "collapsed": false
   },
   "outputs": [
    {
     "name": "stdout",
     "output_type": "stream",
     "text": [
      "346793\n",
      "81\n"
     ]
    }
   ],
   "source": [
    "#df_meta.head()\n",
    "cat_list = [df_meta['categories'][i][0][len(df_meta['categories'][i][0])-1] for i in range(len(df_meta))]\n",
    "print len(cat_list)\n",
    "print len(list(set(cat_list)))"
   ]
  },
  {
   "cell_type": "code",
   "execution_count": 206,
   "metadata": {
    "collapsed": false
   },
   "outputs": [
    {
     "name": "stdout",
     "output_type": "stream",
     "text": [
      "['AC Adapters', 'Accessories', 'Accessories & Supplies', 'Accessory Kits', 'Appliances, Heating, A/C, & Ventilation', 'Armbands', 'Audio Adapters', 'Basic Cases', 'Bathing & Skin Care', 'Batteries', 'Batteries, Chargers & Accessories', 'Battery Charger Cases', 'Battery Chargers', 'Bluetooth Headsets', 'Bluetooth Speakers', 'Camera & Photo', 'Cameras', 'Car Chargers', 'Car Cradles', 'Car Cradles & Mounts', 'Car Kits', 'Car Mounts', 'Car Speakerphones', 'Cases', 'Cases & Sleeves', 'Cell Phone Accessories', 'Cell Phone Docks', 'Cell Phones', 'Cell Phones & Accessories', 'Changing Tables', 'Chargers', 'Chargers & Adapters', 'Clothing', 'Computer Components', 'Computers & Accessories', 'Connected Devices', 'Contract Cell Phones', 'Customizable Cases', 'Data Cables', 'Data Cards', 'Door & Seat Back Organizers', 'Electronics & Gadgets', 'External Battery Packs', 'Family Life', 'Fan Shop', 'Flattening Irons', 'Gun Holsters, Cases & Bags', 'Harnesses & Leashes', 'Headsets', 'Holsters & Clips', 'Internal Batteries', 'International Chargers', 'Leathercraft', 'Minutes', 'Mobile Broadband', 'Mobile Hotspots', 'No-Contract Cell Phones', 'Phone Charms', 'Phones', 'Pop', 'Purse Making', 'Replacement Parts', 'SIM Cards & Tools', 'Science Fiction & Fantasy', 'Screen Protectors', 'Sets', 'Sharpening Tools', 'Signal Boosters', 'Sleeves', 'Smart Watches & Accessories', 'Solar Chargers', 'Stands', 'Stylus Pens', 'Tablets', 'Travel Chargers', 'USB Modems', 'Unlocked Cell Phones', 'Wallet Cases', 'Wallets', 'Waterproof Cases', 'Wired Headsets']\n"
     ]
    }
   ],
   "source": [
    "print sorted(list(set(cat_list)))"
   ]
  },
  {
   "cell_type": "code",
   "execution_count": 18,
   "metadata": {
    "collapsed": false
   },
   "outputs": [
    {
     "name": "stdout",
     "output_type": "stream",
     "text": [
      "41\n"
     ]
    }
   ],
   "source": [
    "pcat_list = [df_meta['categories'][i][0][len(df_meta['categories'][i][0])-2] for i in range(len(df_meta))]\n",
    "print len(list(set(pcat_list)))"
   ]
  },
  {
   "cell_type": "code",
   "execution_count": 208,
   "metadata": {
    "collapsed": false
   },
   "outputs": [
    {
     "name": "stdout",
     "output_type": "stream",
     "text": [
      "['Accessories', 'Accessories & Supplies', 'Baby Products', 'Backpacks & Carriers', 'Bags, Packs & Accessories', 'Bath & Body', 'Batteries', 'Batteries & Accessories', 'Batteries, Chargers & Accessories', 'Books', 'CDs & Vinyl', 'Car Accessories', 'Car Cradles & Mounts', 'Cases', 'Cell Phones', 'Cell Phones & Accessories', 'Chargers', 'Computers & Accessories', 'Connected Devices', 'Consoles & Organizers', 'Cradles, Mounts & Stands', 'Craft Supplies', 'Cutting Tools', 'Electronics', 'Fan Shop', 'Furniture', 'Growing Up & Facts of Life', 'Headsets', 'Hunting', 'Irons', 'Jump Starters, Battery Chargers & Portable Power', 'MP3 Player Accessories', 'Mobile Broadband', 'No-Contract Cell Phones', 'PDA & Handheld Accessories', 'RV Parts & Accessories', 'Safety', 'Sports & Outdoors', 'Strollers', 'Touch Screen Tablet Accessories', 'Underwater Photography']\n"
     ]
    }
   ],
   "source": [
    "print sorted(list(set(pcat_list)))"
   ]
  },
  {
   "cell_type": "code",
   "execution_count": 19,
   "metadata": {
    "collapsed": false
   },
   "outputs": [
    {
     "data": {
      "text/html": [
       "<div>\n",
       "<table border=\"1\" class=\"dataframe\">\n",
       "  <thead>\n",
       "    <tr style=\"text-align: right;\">\n",
       "      <th></th>\n",
       "      <th>asin</th>\n",
       "      <th>categories</th>\n",
       "      <th>title</th>\n",
       "      <th>price</th>\n",
       "      <th>salesRank</th>\n",
       "      <th>imUrl</th>\n",
       "      <th>brand</th>\n",
       "      <th>related</th>\n",
       "      <th>description</th>\n",
       "      <th>subcat1</th>\n",
       "      <th>subcat2</th>\n",
       "    </tr>\n",
       "  </thead>\n",
       "  <tbody>\n",
       "    <tr>\n",
       "      <th>0</th>\n",
       "      <td>0110400550</td>\n",
       "      <td>[[Cell Phones &amp; Accessories, Cases, Basic Cases]]</td>\n",
       "      <td>Pink &amp;amp; White 3d Melt Ice-cream Skin Hard C...</td>\n",
       "      <td>3.33</td>\n",
       "      <td>{u'Cell Phones &amp; Accessories': 83460}</td>\n",
       "      <td>http://ecx.images-amazon.com/images/I/31zn6SOL...</td>\n",
       "      <td></td>\n",
       "      <td>{u'also_bought': [u'B00C56IXFG', u'B008ZUQWOK'...</td>\n",
       "      <td>Pink &amp; White 3D Melt Ice-Cream Skin Hard Case ...</td>\n",
       "      <td>Cases</td>\n",
       "      <td>Basic Cases</td>\n",
       "    </tr>\n",
       "    <tr>\n",
       "      <th>1</th>\n",
       "      <td>011040047X</td>\n",
       "      <td>[[Cell Phones &amp; Accessories, Cases, Basic Cases]]</td>\n",
       "      <td>Purple Hard Case Cover for Iphone 4 4s 4g with...</td>\n",
       "      <td>1.94</td>\n",
       "      <td>{u'Cell Phones &amp; Accessories': 495795}</td>\n",
       "      <td>http://ecx.images-amazon.com/images/I/41WCZc2d...</td>\n",
       "      <td>NaN</td>\n",
       "      <td>{u'buy_after_viewing': [u'B008RU7UL2', u'B0069...</td>\n",
       "      <td>Purple Hard Case Cover for iPhone 4 4S 4G With...</td>\n",
       "      <td>Cases</td>\n",
       "      <td>Basic Cases</td>\n",
       "    </tr>\n",
       "    <tr>\n",
       "      <th>2</th>\n",
       "      <td>0195866479</td>\n",
       "      <td>[[Cell Phones &amp; Accessories, Cases, Basic Cases]]</td>\n",
       "      <td>Hello Kitty Light-weighted Chrome Case Black C...</td>\n",
       "      <td>2.94</td>\n",
       "      <td>{u'Cell Phones &amp; Accessories': 371302}</td>\n",
       "      <td>http://ecx.images-amazon.com/images/I/41fy1%2B...</td>\n",
       "      <td>NaN</td>\n",
       "      <td>{u'buy_after_viewing': [u'B00530RXP2', u'B004S...</td>\n",
       "      <td>Thin and light weighted,\\nCase's unique design...</td>\n",
       "      <td>Cases</td>\n",
       "      <td>Basic Cases</td>\n",
       "    </tr>\n",
       "    <tr>\n",
       "      <th>3</th>\n",
       "      <td>0214514706</td>\n",
       "      <td>[[Cell Phones &amp; Accessories, Cases, Basic Cases]]</td>\n",
       "      <td>Cool Summer Breeze in the Ocean Beach Collecti...</td>\n",
       "      <td>0.94</td>\n",
       "      <td>{u'Cell Phones &amp; Accessories': 778100}</td>\n",
       "      <td>http://ecx.images-amazon.com/images/I/415cmp6Q...</td>\n",
       "      <td>NaN</td>\n",
       "      <td>{u'buy_after_viewing': [u'B0042FV2SI', u'B0086...</td>\n",
       "      <td>Product Name:  Cool Summer Breeze In The Ocean...</td>\n",
       "      <td>Cases</td>\n",
       "      <td>Basic Cases</td>\n",
       "    </tr>\n",
       "    <tr>\n",
       "      <th>4</th>\n",
       "      <td>0214714705</td>\n",
       "      <td>[[Cell Phones &amp; Accessories, Cases, Basic Cases]]</td>\n",
       "      <td>Cool Summer Breeze In The Ocean Beach Collecti...</td>\n",
       "      <td>5.79</td>\n",
       "      <td>{u'Cell Phones &amp; Accessories': 654894}</td>\n",
       "      <td>http://ecx.images-amazon.com/images/I/41XDwPt2...</td>\n",
       "      <td>NaN</td>\n",
       "      <td>{u'buy_after_viewing': [u'B008EU7HRM', u'B0086...</td>\n",
       "      <td>Product Name:  Cool Summer Breeze In The Ocean...</td>\n",
       "      <td>Cases</td>\n",
       "      <td>Basic Cases</td>\n",
       "    </tr>\n",
       "  </tbody>\n",
       "</table>\n",
       "</div>"
      ],
      "text/plain": [
       "         asin                                         categories  \\\n",
       "0  0110400550  [[Cell Phones & Accessories, Cases, Basic Cases]]   \n",
       "1  011040047X  [[Cell Phones & Accessories, Cases, Basic Cases]]   \n",
       "2  0195866479  [[Cell Phones & Accessories, Cases, Basic Cases]]   \n",
       "3  0214514706  [[Cell Phones & Accessories, Cases, Basic Cases]]   \n",
       "4  0214714705  [[Cell Phones & Accessories, Cases, Basic Cases]]   \n",
       "\n",
       "                                               title  price  \\\n",
       "0  Pink &amp; White 3d Melt Ice-cream Skin Hard C...   3.33   \n",
       "1  Purple Hard Case Cover for Iphone 4 4s 4g with...   1.94   \n",
       "2  Hello Kitty Light-weighted Chrome Case Black C...   2.94   \n",
       "3  Cool Summer Breeze in the Ocean Beach Collecti...   0.94   \n",
       "4  Cool Summer Breeze In The Ocean Beach Collecti...   5.79   \n",
       "\n",
       "                                salesRank  \\\n",
       "0   {u'Cell Phones & Accessories': 83460}   \n",
       "1  {u'Cell Phones & Accessories': 495795}   \n",
       "2  {u'Cell Phones & Accessories': 371302}   \n",
       "3  {u'Cell Phones & Accessories': 778100}   \n",
       "4  {u'Cell Phones & Accessories': 654894}   \n",
       "\n",
       "                                               imUrl brand  \\\n",
       "0  http://ecx.images-amazon.com/images/I/31zn6SOL...         \n",
       "1  http://ecx.images-amazon.com/images/I/41WCZc2d...   NaN   \n",
       "2  http://ecx.images-amazon.com/images/I/41fy1%2B...   NaN   \n",
       "3  http://ecx.images-amazon.com/images/I/415cmp6Q...   NaN   \n",
       "4  http://ecx.images-amazon.com/images/I/41XDwPt2...   NaN   \n",
       "\n",
       "                                             related  \\\n",
       "0  {u'also_bought': [u'B00C56IXFG', u'B008ZUQWOK'...   \n",
       "1  {u'buy_after_viewing': [u'B008RU7UL2', u'B0069...   \n",
       "2  {u'buy_after_viewing': [u'B00530RXP2', u'B004S...   \n",
       "3  {u'buy_after_viewing': [u'B0042FV2SI', u'B0086...   \n",
       "4  {u'buy_after_viewing': [u'B008EU7HRM', u'B0086...   \n",
       "\n",
       "                                         description subcat1      subcat2  \n",
       "0  Pink & White 3D Melt Ice-Cream Skin Hard Case ...   Cases  Basic Cases  \n",
       "1  Purple Hard Case Cover for iPhone 4 4S 4G With...   Cases  Basic Cases  \n",
       "2  Thin and light weighted,\\nCase's unique design...   Cases  Basic Cases  \n",
       "3  Product Name:  Cool Summer Breeze In The Ocean...   Cases  Basic Cases  \n",
       "4  Product Name:  Cool Summer Breeze In The Ocean...   Cases  Basic Cases  "
      ]
     },
     "execution_count": 19,
     "metadata": {},
     "output_type": "execute_result"
    }
   ],
   "source": [
    "df_meta['subcat1'] = pcat_list\n",
    "df_meta['subcat2'] = cat_list\n",
    "#del df_meta['subact2']\n",
    "df_meta.head()"
   ]
  },
  {
   "cell_type": "code",
   "execution_count": 29,
   "metadata": {
    "collapsed": false
   },
   "outputs": [
    {
     "name": "stdout",
     "output_type": "stream",
     "text": [
      "[(0.6782608695652174, 'Plantronics CS530 Wireless Headset System - Black'), (0.625, 'Plantronics-CS540 Convertible Wireless Headset'), (0.5874125874125874, 'Plantronics CS510 - Over-the-Head monaural Wireless Headset System - DECT 6.0'), (0.5299145299145299, 'Plantronics Digital Tty with Text Answering Machine'), (0.5161290322580645, 'Jabra GN9125 Mono Soundtube Wireless Headset for Deskphone'), (0.5054945054945055, 'Plantronics Spare Headset'), (0.5, 'AKG K830BT High-End Wireless Headset with Bluetooth (Black) (Discontinued by Manufacturer)'), (0.47674418604651164, 'Creative Aurvana Gold Wired/Wireless Headset with 40mm Drivers, Bluetooth 3.0, NFC and Built-In Microphone'), (0.4666666666666667, 'Plantronics Voyager Legend CS Bluetooth Headset for Mobile Phones - Retail Packaging'), (0.45595854922279794, 'Plantronics SAVI W440 Convertible, Wireless DECT Headset System for Laptop, Softphone &amp; Multimedia Use - Black &amp; Silver'), (0.41379310344827586, 'SONY ERICSSON XPERIA RAY PREMIUM PU LEATHER FLIP CASE - BLACK, WITH QUBITS-BRANDED MICROFIBER CLEANING CLOTH'), (0.4, 'Soundmatters foxL DASH7 Wireless Stereo Hi-Fi Bluetooth Sound Bar and Speakerphone, Black'), (0.39622641509433965, 'Bose Mobile On-Ear Headset (Old Version)'), (0.3939393939393939, 'Logitech UE 984-000304 Boombox Wireless Bluetooth Speaker (Silver)'), (0.391304347826087, 'SOL REPUBLIC 1500-00 DECK Wireless Speaker - Retail Packaging - Gunmetal'), (0.391304347826087, 'SOL REPUBLIC 1500-00 DECK Wireless Speaker - Retail Packaging - Gunmetal'), (0.3877551020408163, 'Nokia C6-00 BLACK Unlocked Phone'), (0.3875968992248062, 'Sony Ericsson C901 White 3G 5-MEGAPIXEL GSM Unlocked Cell Phone'), (0.384, 'Samsung I8262 Galaxy Core Duos Dual Sim Unlocked Smartphone'), (0.3776223776223776, 'Sony Ericsson W580i Quadband Phone with 2MP Camera (Unlocked) Boulevard Black'), (0.37037037037037035, 'HTC One VX AT&amp;T 4G LTE Unlocked GSM Android Cell Phone - Gray/Red'), (0.3697478991596639, 'HTC First 1st 16GB White AT&amp;T Facebook Smartphone'), (0.36619718309859156, 'Sony Ericsson Xperia Arc S / LT18i (PINK) / Unlocked International Gsm Phone'), (0.36363636363636365, 'Minx Go Wireless Bluetooth Speaker System for iPhone and Android and MP3 Players (White)'), (0.35714285714285715, 'Nokia 5230 Quad-band GSM Cell Phone - Unlocked'), (0.34965034965034963, 'Casio GzOne C731 Rock, Black (Verizon Wireless) CDMA. - No Contract Required.'), (0.3434343434343434, 'HTC 8x Blue AT&amp;T LOCKED phone'), (0.34328358208955223, 'Blackberry Bold 9000 Unlocked Phone 3G phone with 2 MP Camera, Wi-Fi'), (0.34285714285714286, 'Motorola Entice W766 Verizon Cell Phone'), (0.34074074074074073, 'Nokia Black Silicone Case / Executive Protector Skin Cover cell phone'), (0.3404255319148936, 'Wireless Convertible Headset'), (0.3393939393939394, 'Nokia N8 Unlocked GSM Touchscreen Phone Featuring GPS with Voice Navigation and 12 MP Camera (Gray)'), (0.3387096774193548, 'Andy A4.5 - Factory Unlocked Phone - Yezz Wireless (White)'), (0.3382352941176471, 'Sony Ericson F-100 (Jalou) Quadband GSM World Celluler Phone(Unlocked)'), (0.3333333333333333, 'Parrot Bluetooth Car Kit with Steering Wheel Control (Black)'), (0.3333333333333333, 'Sena Technologies SMH-5D Bluetooth Headset/Intercom Multi Kit - --'), (0.3305785123966942, 'Coolpad Quattro 4G LTE Prepaid Android Phone (MetroPCS)'), (0.3300970873786408, 'Nokia C7 Unlocked Quadband Smartphone'), (0.32857142857142857, 'Zopo Zp950+ Phablet 5.7inch Mtk Mt6589 Quad Core Android 4.1 3g Phone Gray'), (0.3275862068965517, 'ZTE Anthem 4G LTE Prepaid Android Phone (MetroPCS)'), (0.32727272727272727, 'Apple iPhone 4 CDMA 8gb for Verizon Wireless'), (0.32679738562091504, 'Samsung Galaxy S II Skyrocket I727 16GB AT&amp;T Unlocked GSM 4G LTE Smartphone - Black'), (0.32679738562091504, 'Samsung Galaxy S II Skyrocket I727 16GB AT&amp;T Unlocked GSM 4G LTE Smartphone - Black'), (0.32679738562091504, 'Samsung Galaxy S II Skyrocket I727 16GB AT&amp;T Unlocked GSM 4G LTE Smartphone - Black'), (0.3262411347517731, 'Wilson Electronics Ag Pro/tri-band/quint and All 50 Ohm Boosters Add on Kit'), (0.32592592592592595, 'HTC 8X C625b 8GB AT&amp;T Unlocked GSM Windows 8 OS Cell Phone - Lime'), (0.3252032520325203, 'LG Intuition VS950 32GB LTE 4G Android - Verizon Wireless'), (0.32432432432432434, 'Huawei U9200 Ascend P1 Unlocked Phone - Black'), (0.3236994219653179, 'Nokia N8 Unlocked GSM Touchscreen Phone Featuring GPS with Voice Navigation and 12 MP Camera (Silver/White)'), (0.3235294117647059, 'HTC 8X C625b 16GB AT&amp;T Unlocked GSM Windows 8 OS Cell Phone - Blue'), (0.3221476510067114, 'Nokia N8 Premium PU Leather Flip Case with 6 Screen Protectors and 1 Stylus (Black)'), (0.32051282051282054, 'Nokia 5530 XpressMusic Unlocked Phone with Touchscreen--U.S. Version with Warranty (Black)'), (0.3177570093457944, 'LG GU295 Black GSM QuadBand 3G Cell Phone'), (0.31746031746031744, 'Samsung Galaxy S III 4G LTE Prepaid Android Phone (MetroPCS)'), (0.31666666666666665, 'Samsung Admire Prepaid Android Phone, White (MetroPCS)'), (0.3157894736842105, 'Sony Ericsson Mix Walkman Black with Pink Cloud and Champagne Bands US Version (WT13i)'), (0.3140495867768595, 'Samsung S5690 Galaxy Xtreme Waterproof 3G 850 Mhz Phone'), (0.3129251700680272, 'Bose Bluetooth Headset Series 2, Left Ear and Bose Bluetooth Car Charger - Bundle'), (0.3108108108108108, 'Bluefusion Bfcl2K Hands-Free Bluetooth Integration for Select GM Class Ii Vehicles'), (0.3103448275862069, \"Casio G'zOne Ravine C751 Rugged Cell Phone Verizon\"), (0.3089430894308943, 'Motorola Razr HD XT925 Unlocked International GSM Version'), (0.3076923076923077, 'New Black Gel Skin / Cover / Case for the Huawei U9200 Ascend P1'), (0.304635761589404, 'Bose Bluetooth Headset Series 2 - Right Ear &amp; Bose Bluetooth Car Charger (Bundle)'), (0.30434782608695654, 'Bluefusion Bfgmk Hands-Free Bluetooth Integration for Select GM Vehicles'), (0.30434782608695654, 'Virgin Mobile - Apple Iphone 4 with 8gb Memory No-contract Phone - Black'), (0.30357142857142855, 'LG Optimus M+ Prepaid Android Phone (MetroPCS)'), (0.3027027027027027, 'BlackBerry 9930 Bold GSM Unlocked Touch screen Verizon CDMA Phone with 5MP Camera and Blackberry OS 7 No Warranty White'), (0.3006535947712418, 'Sony Xperia U St25i (Black+ 1 Additional Bottom Cap)(5MP): Brand New Unlocked GSM Phone'), (0.3006535947712418, 'Bfun Packing Black Anti-slip Card Slot Wallet Leather Cover Case for Sony Xperia L S36h'), (0.3, 'COGITO Classic Smart Bluetooth Connected Watch for Smartphones - Retail Packaging - Black Onyx'), (0.2994011976047904, 'Lg P999 Optimus G2x with Google Unlocked Android Smartphone with Dual Core, Hd Gaming and 3d Graphics'), (0.2962962962962963, 'BlackBerry Bold 9900 GSM Factory Unlocked Phone - No Warranty (Black)'), (0.2962962962962963, 'COGITO Classic Smart Bluetooth Connected Watch for Smartphones - Retail Packaging - White Alpine'), (0.29591836734693877, 'Nokia 002L4D0 N86 Unlocked Phone with 8 MP Camera, Auto Focus, Flash and Carl Zeiss Optics - Unlocked Phone - US Warranty - Indigo'), (0.29591836734693877, 'Scosche BlueFusion BFCL2K Wireless Bluetooth Car Hands-free Kit. 03-UP GM CL2 B/F AMACCS. Caller ID, Echo Cancellation, Voice Dial'), (0.29577464788732394, 'Bluefusion Bftak Hands-Free Bluetooth Integration for Select Toyota Vehicles'), (0.29457364341085274, 'Sanrio Hello Kitty Angel Nurse Cell Phone Strap (Blood Type AB)'), (0.29411764705882354, 'Scosche BFGM GM LAN BlueFusion Interface Module for Factory Hands Free'), (0.2938388625592417, 'Blu D100b Tango GSM Quad-Band Phone with Android OS 2.2, Wi-Fi, GPS Navigation, Bluetooth and MicroSD Slot - Unlocked Phone - US Warranty - White'), (0.2929936305732484, 'Consumer Electronic Products Wacom Bamboo Create Pen and Touch Tablet (CTH670) Supply Store'), (0.29239766081871343, 'Sony Xperia E C1605 Dual Sim, 3MP, 3G, 4GB, Ice Cram Sandwich Factory Unlocked World Mobile Phone - Black'), (0.2916666666666667, 'HTC Desire A8181 Android Smartphone with 5 MP Camera, Wi-Fi, Touchscreen and Bluetooth--International Version with No Warranty'), (0.2913907284768212, 'Mophie Space Pack iPhone 5s/5 Case with 32GB Extra Storage, Extra Battery Life, WHITE'), (0.2903225806451613, 'Scosche IUBCKH Hands-Free Cellular Phone Bluetooth Car Kit'), (0.2891566265060241, 'COGITO Classic Smart Bluetooth Connected Watch for Smartphones - Retail Packaging - Clockwork Orange'), (0.28846153846153844, 'Nokia Lumia 630 Black Factory Unlocked'), (0.28837209302325584, 'Sony Ericcson Aspen Unlocked Cell Phone with 3.2 MP Camera, Wi-Fi, gps navigation, microSD Card Support --International Version with Warranty (White)'), (0.288135593220339, 'BLACKBERRY BOLD 9900 UNLOCKED TOUCHSCREEN SMARTPHONE'), (0.288135593220339, 'SAMSUNG GALAXY ACE II X (Ace2x) S7560 UNLOCKED WHITE'), (0.2878787878787879, 'Sony Xperia M C2004 - Dual SIM - Unlocked -  US Warranty - (White)'), (0.2857142857142857, 'Sanyo 2700 Prepaid Phone for Kids with 1 Year of GPS, Blue (Kajeet)'), (0.2857142857142857, 'Blackberry Bold 9900 5MP, 8GB, 3g 850/1900/2100 mhz, Touch Screen, WIFI, GPS Unlocked World Smartphone'), (0.2857142857142857, 'Motorola Defy XT Android Prepaid Phone (Net10)'), (0.2857142857142857, 'Samsung Galaxy S II 4G Prepaid Android Phone, White (Virgin Mobile)'), (0.2857142857142857, 'Huawei W1 Windows Prepaid Phone (Net10)'), (0.28415300546448086, 'New OEM Samsung Galaxy S4 White LCD Assembly (With Frame) For CDMA Models - Verizon I545 Sprint L720 US Cellular R970'), (0.28378378378378377, 'mophie Juice Pack Air Charging Case for iPhone 5 - Bundle (2 Pack) - Black / White'), (0.28346456692913385, 'Samsung Galaxy S II i777 16GB GSM Android Smartphone Unlocked'), (0.2831050228310502, '1X NE3C(TM) Sony Xperia L S36h C2104 C2105 Leather Folio Support Smart Case Cover With Card Holder &amp; Magnetic Flip Horizontals - Love Butterfly Tower'), (0.28205128205128205, 'Bfun Packing Hot Pink Anti-slip Card Slot Wallet Leather Cover Case for Sony Xperia L S36h'), (0.28187919463087246, 'New Orange Case Cover Battery Door + 2 Screen Films for Star N9776 Smart Cell Phone'), (0.28169014084507044, 'Samsung Galaxy ACE 3 S7270 4GB, Black Factory Unlocked International Version'), (0.2807017543859649, 'Samsung Galaxy S4 SCH-R970C 16GB White - Cricket'), (0.28054298642533937, 'GSM PCS 1900MHz 65dB Gain Cell Phone Mobile Booster Repeater Extenders Full Kit For Home Or Office -With Indoor Panel Directional And Outdoor Yagi Antennas'), (0.27906976744186046, 'RANYOU Case Cover for 6 inch Cellphone N9776 Smart Phone (blue)'), (0.27906976744186046, 'BLU Life Play X L102A Black Unlocked GSM Dual-SIM Android Phone'), (0.27860696517412936, 'Nokia C6 Unlocked GSM Phone with Easy E-mail Setup, Side-Sliding Touchscreen, QWERTY, 5 MP Camera, and Free Ovi Maps Navigation (White)'), (0.27710843373493976, 'Nokia N8 Aluminum Shell Case with Silicone Inner-Layer with 6 Screen Protectors and 1 Stylus (Black)'), (0.27692307692307694, 'Pebble Smart Watch for iPhone and Android Devices (Arctic White)'), (0.27555555555555555, 'Samsung Star GT-S5230 Unlocked Phone with Full Touchscreen Quad-Band GSM Bluetooth, 3.2 MP Camera, Voice Record, MP3 and MP4 Speaker Phone--U.S. Version(Black)'), (0.27488151658767773, 'Newisland N9000 Quad Core 1.2ghz 5.7inch IPS Capacitive Touch Screen 3g Smartphone Android Os 4.2.2 with At&amp;t, T-mobile, H20 White, Pack of 2'), (0.27472527472527475, 'Powertraveller RED Power Monkey Extreme 9000mAh Solar Charger For iPad, iPad 2, iPhone, Nook, Xoom, Kindle, Playbook'), (0.27450980392156865, 'Samsung Galaxy S III (Virgin Mobile)'), (0.27380952380952384, 'Sony Ericsson Xperia Play R800i Unlocked Phone and Gaming Device with Android OS and Slide-Out Gamepad'), (0.2727272727272727, 'Sony Xperia M C2004 - Dual SIM - Unlocked -  US Warranty - (Black)'), (0.2727272727272727, 'Samsung Galaxy ACE 3 S7270L 4GB, Factory Unlocked - Metallic Black'), (0.2708333333333333, 'HTC C110E Radar Unlocked Smartphone with Windows Phone OS 7.5, 5MP Camera, Touchscreen, Wi-Fi, GPS--No Warranty (Metal Silver)'), (0.2702702702702703, 'SONY ERICSSON XPERIA RAY / ST18i (Gold) : UNLOCKED INTERNATIONAL GSM ANDRIOD PHONE'), (0.2702702702702703, '5.3 Inch Feiteng H7100 Android 4.1 3g Smart Phone with QHD Screen GPS Dual SIM Dual Core 1ghz 8mp Camera 1gb RAM (Grey)'), (0.2698412698412698, 'Midland BT2D Bluetooth Intercom System for Motorcycle (Pair)'), (0.2692307692307692, 'Motorola Flipout Unlocked GSM Quad-Band Android Phone with Bluetooth, Camera, QWERTY Keyboard and Wi-Fi - Unlocked Phone - US Warranty - Black'), (0.26881720430107525, '5.3 Inch Feiteng H7100 Android 4.1 3g Smart Phone with QHD Screen GPS Dual SIM Dual Core 1ghz 8mp Camera 1gb RAM (White)'), (0.26804123711340205, 'Duet D9 Unlocked Phone (Silver)'), (0.26666666666666666, 'W410 Over-the-head, Monaural (Standard)'), (0.26582278481012656, 'HTC Radar 4G - Unlocked GSM - Windows Phone OS 7.5 - 5PM - 1GHz Qualcomm + Micro Car Charger'), (0.26490066225165565, 'Neewer Black Flip Faux Leather Battery Back Case Cover for i8190 Galaxy S III Mini S3'), (0.2644628099173554, 'Sony Xperia L C2104 Unlocked Phone--U.S. Warranty (Red)'), (0.2644628099173554, 'LG Optimus L7II (P716) White Android Dual Sim 4.3&quot;'), (0.26277372262773724, \"Casio G'zOne Brigade C741 - Black (Verizon) Cellular Phone- No Contract\"), (0.2625, 'BLU Studio 5.5 D610i Dual Sim, 5mp, 4gb, Jelly Bean Factory Unlocked World Mobile Phone - Gray'), (0.26244343891402716, 'Samsung M8910 Pixon 12 Unlocked Quad-Band Phone with 12 MP Camera, gps navigation, Wi-Fi and microSD Card Slot--International Version with Warranty (Black)'), (0.26229508196721313, 'Powertraveller BLUE Power Monkey Extreme 9000mAh Solar Charger For iPad, iPad 2, iPhone, Nook, Xoom, Kindle, Playbook'), (0.26153846153846155, 'Snap-on Rubber Coated Case for HTC Holiday / Vivid, Carbon Fiber'), (0.2608695652173913, 'HTC Radar C110E Unlocked GSM Phone - White/Silver'), (0.2608695652173913, 'Powertraveller BLACK Power Monkey Extreme 9000mAh Solar Charger For iPad, iPad 2, iPhone, Nook, Xoom, Kindle, Playbook'), (0.2603550295857988, 'SAMSUNG GALAXY S III S3 SCH-S960L MARBLE WHITE ANDROID TOUCHSCREEN SMARTPHONE PREPAID NO CONTRACT NET10'), (0.2601626016260163, 'HTC 8X 16GB Unlocked GSM Windows 8 OS Cell Phone - Yellow'), (0.2601626016260163, 'Sony Xperia L C2104 Unlocked Phone--U.S. Warranty (White)'), (0.2601626016260163, 'Sony Xperia L C2104 Unlocked Phone--U.S. Warranty (Black)'), (0.2595419847328244, 'HTC Touch Dual P5500 Triband 3g Hsdpa Touch Screen Unlocked Phone'), (0.2594142259414226, 'Sony Ericsson Vivaz Pro U8 Unlocked GSM Smartphone with 5 MP Camera, Symbian OS, QWERTY Keyboard, Touch Screen and Bluetooth - Unlocked Phone - International Version - White'), (0.25806451612903225, 'Motorola MB525 Defy - Unlocked Phone - US Warranty - Black'), (0.25773195876288657, 'Nokia 5800 XpressMusic Unlocked Phone with U.S. 3G,  GPS with Free Voice Navigation, Wi-Fi -- U.S. Version with Warranty (Black)'), (0.25675675675675674, 'SONY ERICSSON XPERIA RAY / ST18i (PINK) : UNLOCKED INTERNATIONAL GSM ANDRIOD PHONE'), (0.2564102564102564, 'Blackberry Bold Touch 9900 4g Wifi 5mp Gps Unlocked'), (0.2556390977443609, 'LG MAXIMO L7 II P710 Factory Unlocked International Version - WHITE'), (0.2555066079295154, 'PGD S5 Android 4.04 Mtk6577 Dual Core Smartphone Digital Smartwatch Handfree Wireless Bluetooth Touch Screen Built-in SIM Card and TF card slot MP3 FM GPS Camera'), (0.2545454545454545, 'Blackberry Torch 9800 Unlocked 3G / 5MP/ 4GB Card / WIFI / GPS Smartphone AT&amp;T US Version (Red)'), (0.2542372881355932, 'NEW Virgin Mobile USA Apple iPhone 5 White MD355LL/A'), (0.25225225225225223, '2x 1000m Motorcycle Bluetooth BT Handsfree Cell Phone Multi Helmet Biker to Biker Motorcyclists Intercom Interphone MP3 Stereo Ear Phone Microphone Headsets'), (0.25196850393700787, 'Motorola MB511 Flipout Rubberized Shield Hard Case - Hot Pink'), (0.25120772946859904, 'Samsung GT-S6102 Galaxy Y Duos Dual SIM Smartphone with Bluetooth, Wi-Fi, Android OS, HSDPA 850 / 2100 - Unlocked Phone - No Warranty - White'), (0.25, 'Parrot MKi9100 Advanced Bluetooth Hands-Free Music Kit'), (0.2484472049689441, \"Casio G'zOne Boulder for Verizon Wireless (Orange) NO CAMERA Version - Rugged - Water Resistant\"), (0.24742268041237114, 'Samsung S5233W-Silver Unlocked Quad Band Cell Phone with Camera, Wifi, Touchscreen--International Version with Warranty (Silver)'), (0.2465753424657534, 'Flip Case Battery Back Cover For Samsung Galaxy S3 mini GT-i8190 Sapphire PC382S'), (0.2459016393442623, 'Sony Bluetooth Spearker with Magnetic Charging Pad Bsc10'), (0.24242424242424243, 'Sony Ericsson XPERIA X10 Unlocked GSM Smartphone with 8 MP Camera, Android OS, Touch Screen, Wi-Fi and gps navigation--International Version with No Warranty (Black)'), (0.24242424242424243, 'Sony Xperia Tipo ST21A Unlocked Android Phone--U.S. Warranty (Red)'), (0.242152466367713, 'HTC Desire A8181 Unlocked Quad-Band GSM Phone with Android OS, HTC Sense UI, 5 MP Camera, Wi-Fi and gps navigation--International Version No Warranty (Brown)'), (0.24203821656050956, 'High Quality For BLU Life PLAY Water Resistant Neoprene Sports Gym Jogging Exercise Armband'), (0.24175824175824176, 'Motorola XT-910 DROID RAZR Unlocked GSM Smartphone with 8 MP Camera, Android OS, Wi-Fi, and GPS--No Warranty (Black)'), (0.24161073825503357, 'Lenovo S920 Quad Core 1.2GHz 1GB RAM 5.3&quot; 720p Dual SIM Standby 8MP Smartphone'), (0.24096385542168675, 'New Factory Unlocked LG Optimus L9 P768 Black International GSM Android Phone HSDPA 900 / 2100 on 3G'), (0.24096385542168675, 'New OEM Samsung Galaxy S4 Black LCD Assembly (With Frame) For GSM Models T Mobile M919 AT&amp;T I337'), (0.24, 'Ecell - White Glittery Design Soft Silicone Gel Skin Case for Sony Xperia Sola MT27i'), (0.23853211009174313, 'Crux Beeline BEEBT-22 Vehicle Bluetooth kit'), (0.23809523809523808, 'Samsung Galaxy Core I8262 Dual-Sim 3G, 5MP, 8GB, Jelly Bean Factory Unlocked World Mobile Phone - Blue'), (0.23595505617977527, 'Tekkeon myPower ALL Plus MP3450, Provides up to 19V to Power and/or Charge Laptops and other Devices (Release 3)'), (0.23529411764705882, 'Kodak PlayTouch Video Camera, Mini Camcorder Accessories Kit: Eva Smooth Midnight Black Protective Hard Kodak Camera Case + Kodak Camera Tripod with Flexible Grip Legs + Live * Laugh * Love VG Wrist Band!!!'), (0.23529411764705882, 'EMPIRE Purple Rubberized Snap-On Cover Case for Motorola FlipOut MB511'), (0.23376623376623376, 'Motorola Motocubo A45 ECO Unlocked Quad-Band GSM phone with 2MP camera, Full QWERTY keyboard, Bluetooth and FM radio - International Version with No Warranty (White)'), (0.23357664233576642, 'Goodies&reg; Relacement Hard Case for Beats by dre Pill Speaker (White)'), (0.23255813953488372, 'CUBOT ONE 4.7&quot; IPS Capacitive Touch Screen MTK6589 4-Core Android 4.2 3G Smart Phone + GPS + 12MP CAM'), (0.2318840579710145, 'Motorola MB511 Flipout Graphic Rubberized Shield Hard Case - Neon Floral'), (0.23036649214659685, 'Sony Ericsson Xperia ray ST18a Unlocked Android Smartphone with 8 MP Camera, Wi-Fi, Bluetooth, and GPS--U.S. Warranty (Black)'), (0.2302158273381295, 'Motorola MB511 Flipout Graphic Rubberized Shield Hard Case - Sacred Heart'), (0.22972972972972974, 'JIAYU G3 Gorilla Glass Dual-core 4.5 inch IPS Screen 1280x720 Android 4.0 Dual Sim'), (0.22972972972972974, 'Wilson Electronics MobilePro Cellular Signal Booster Kit - Retail Packaging - Grey'), (0.228310502283105, 'OEM Trident Aegis Samsung Galaxy S Blaze 4g Hard Plastic Snap On Shell Case Cover Over Silicone W/ Lcd Screen Protector Cover Kit Film Guard - Red/ Black'), (0.22826086956521738, 'Star B6000 - 5.7 Inch HD Screen 1.5GHz quad core MTK6589T Android 4.2 3G Tablet Smartphone GPS 1GB RAM WIFI 12MP white'), (0.22807017543859648, 'Looxcie HD Basic Pack - Retail Packaging - Black'), (0.22784810126582278, 'Sony Xperia Neo L MT25i Black - Factory Unlocked, Android Smartphone - International Version'), (0.2268041237113402, 'HTC X710a Raider 4G LTE, 4.5 Inch Display, 16GB, Gingerbread, Unlocked World Mobile Phone - Unlocked Phone - No Warranty - Black'), (0.22594142259414227, 'HTC 8X C625b 16GB Unlocked GSM Phone with Windows 8 OS, 4.3&quot; HD Display, 8MP Camera, 1.5 GHz Qualcomm Dual-Core Processor, Beats Audio, GPS, Wi-Fi and Bluetooth - Black'), (0.22459893048128343, '1:1 S3 I9377 4.7&quot; Inch FREE 8GB SD USA Maps 3 g / 2 g Android 4.1 Unlocked MTK 6577 1.2ghz Wifi Build-in GPS 4 gb 3g'), (0.22388059701492538, 'EMPIRE Blue Rubberized Snap-On Cover Case for Motorola FlipOut MB511'), (0.2222222222222222, 'EMPIRE Black Rubberized Snap-On Cover Case for Motorola Flipout MB511'), (0.2222222222222222, 'Sony Xperia Sola MT27i Dual Core Smart Phone Factory Unlocked (White)'), (0.2222222222222222, 'Samsung Galaxy S2 S959G / I777 Unlocked GSM Android Cell Phone - Grey'), (0.2206896551724138, '2 COBRA CBTH1 PLUS Trucker Hands-Free Bluetooth 2.0 T5 Noise Canceling Headsets'), (0.21818181818181817, 'ZTE Avid 4G Prepaid Android Phone (MetroPCS)'), (0.21656050955414013, 'Motorola Flipout Mb511 (At&amp;t) - Rubberized Design Snap-on Protector Case - Heart Design'), (0.21487603305785125, 'HTC Windows 8X 16GB T-Mobile Smartphone Cell Phone Blue'), (0.21390374331550802, 'Lg Optimus L9 Black P760/p765/p768 (Factory Unlocked) 4.7&quot; IPS ,Android 4 Specail Gift for Special One Fast Shipping'), (0.21296296296296297, 'HTC Windows Phone 8X Unlocked GSM Smartphone with 8 MP Camera, 4.3-Inch Touchscreen, Dual-core 1.5 GHz, 16GB Memory, Wi-Fi and GPS No Warranty - Black'), (0.2125, 'EMPIRE Black Multi Colored Zebra Design Snap-On Cover Case for AT&amp;T Motorola Flipout MB511'), (0.2122905027932961, 'Sony Xperia Go ST27i White IP67 certified Factory Unlocked International Version by New Generation Products LLC.,'), (0.21153846153846154, 'Nokia Lumia 900 Black Factory Unlocked'), (0.21052631578947367, '[Buy World] Motorola Flipout Mb511 (At&amp;t) - Rubberized Design Snap-on Protector Case - Colorful Zebra'), (0.205607476635514, 'Sony Xperia sola MT27i-RED Unlocked Phone with 5 MP Camera, Android 2.3 OS, 1 GHz Dual-Core Processor, and 3.7-Inch Touchscreen--U.S. Warranty (Red)'), (0.20454545454545456, 'Apple Iphone 4 - 16gb Verizon (CDMA) Black, Smartphone, like new, in box with all the accessories, clean esn!!'), (0.20408163265306123, 'iGadgitz S Line White Durable Crystal Gel Skin (TPU) Case Cover for Sony Xperia L Android Smartphone Cell Phone + Screen Protector'), (0.20394736842105263, 'HTC Salsa C510e Unlocked GSM Phone with Android 2.3 OS, 3.4&quot; Touchscreen, HTC Sense UI, 5MP Camera, Video, GPS, Wi-Fi, Bluetooth, Dedicated Facebook Key, SNS Integration, FM Radio, MP3/MP4 Player, Google Apps and microSD Slot - Lilac'), (0.203125, 'Samsung Galaxy S II T989 Black T-Mobile [Non-retail Packaging]'), (0.203125, 'Samsung Galaxy Gear Smartwatch- Retail Packaging - Wild Orange'), (0.2028985507246377, 'Lumia900 Factory Unlocked Smartphone with Windows Phone 7.5, 8 MP Camera, 4.3-inch Touch Screen, 16 GB Memory and Wi-Fi - No Warranty - Black'), (0.20270270270270271, 'Star Note 3 N9006, 5.7 Inch HD, Android 4.3, Smart Pause &amp; scroll, Air command'), (0.20168067226890757, 'Nokia Lumia 900 Black AT&amp;T [Non-retail Packaging]'), (0.20168067226890757, 'For Nokia Lumia 810 TPU Cover Case Hot Pink Accessory'), (0.2, 'Motorola MB511 Flipout Graphic Case - Colorful Leopard'), (0.2, 'Samsung Galaxy TAB 3 Lite 7&quot; T110 White 8GB Wi-Fi'), (0.19858156028368795, 'HTC 8X Windows 8 AT&amp;T Phone (8GB) - Blue Color - UNLOCKED - NO CONTRACT'), (0.1981981981981982, 'Beats Pill Portable Bluetooth Speaker - White'), (0.19753086419753085, 'Nokia ASHA 300 RED Factory Unlocked 1GHz Processor 5MP 3G HSDPA 850 / 900 / 1900 / 2100 by Nokia'), (0.19730941704035873, \"Maxwest Orbit 6200 Unlocked Android GSM Phone 4g 6'' Screen for At&amp;t, T-mobile,simple Mobile,net 10,lycamobile,h2o Wireless,red Pocket &amp; Ultra Mobile\"), (0.19672131147540983, 'BLU Life Play Unlocked Dual Sim Phone with Quad-Core 1.2GHz Processor, Android 4.2 JB, 4.7-inch IPS HD Display,(Grey)'), (0.19653179190751446, 'Casio GzOne Rock 731 Waterproof 3G GPS Camera Cell Phone Verizon or Page Plus Pre-Paid No Contract Required'), (0.19622641509433963, 'N9776 Cortex A9 Dual Core 1.2Ghz Unlocked Android Note, 6&quot; FWVGA Touchscreen with 854 x 480 Pixels, 512MB RAM, 4G ROM, Dual Cameras (0.3M Front / 5M Rear), Light/Proximity/Gravity Sensor (BLACK)'), (0.19607843137254902, 'HTC HD2 T8585 Unlocked Phone with Touch Screen, 5MP Camera, GPS, Wi-Fi and Windows Mobile 6.5 Professional - International Version - Black'), (0.19607843137254902, 'Nokia LUMIA 900 IN 16GB Unlocked GSM Genuine OEM RM823 3G HSDPA 850/900/1900/2100 Black'), (0.19607843137254902, 'Original OEM Black Full LCD Touch Screen Digitizer Assembly for Samsung Galaxy S4 I9500'), (0.19444444444444445, 'Black Smooth Rubber Feel Protective Case for Motorola Flipout (MB511) AT&amp;T'), (0.1941747572815534, 'Apple iPhone 4 16GB (White) - Verizon'), (0.1935483870967742, 'PARROT PF300008AA Advanced Bluetooth(R) Hands-Free Car Kit'), (0.1935483870967742, 'JIAYU G3T - 4.5 Inch HD IPS Gorillla Glass Screen Smartphone 1.5Ghz Quad Core MTK6589T Android 4.2 Dual SIM WIFI GPS 8MP'), (0.1933534743202417, 'Unlock White S7589 MT6589 Quad Core 1.7 GHZ RAM 1G ROM 4G Arc touchscreen 5.7 HD Screen IPS 1280X720 pixel WCDMA/GSM four-bands Mobile AP wifi GPS+AGPS Light sensor Gravity Sensor Proximity sensor 8MP AF 3MP front camera flash light, (White)+Phone Holder+Stylus Pen'), (0.19230769230769232, 'HTC Vivid 4G X710a 16GB AT&amp;T 4G LTE Dual-Core Android Smartphone w/ 8MP Camera - Black'), (0.19161676646706588, 'Jiayu G4 Advanced Android 4.1 3G Smartphone MTK6589 4.7 inch Retina HD IPS Screen 13MP Camera (Black)'), (0.19130434782608696, 'LG Motion 4G LTE Prepaid Android Phone (MetroPCS)'), (0.19130434782608696, 'Beats Pill Portable Bluetooth Speaker (Neon Blue)'), (0.19008264462809918, 'BLU Vivo 4.65 HD D930a Unlocked Phone with 4.65-Inch Super AMOLED Plus Display, Dual SIM 3G 850/1900, Dual Core 1.2GHz Processor, Android 4.0 ICS, and 8 MP Camera - US Warranty'), (0.19, 'Sony Ericsson Xperia Ray ST18A Android Smartphone, UNLOCKED GSM Phone, 8MP Camera, 720P Video, Bluetooth, FM Radio, NEW, BULK PACKAGED'), (0.1891891891891892, \"Casio G'zOne C781 Ravine 2 cell phone for Verizon (Black) Rugged - Water Resistant\"), (0.1889763779527559, 'Pop Square Phone Protector Cover for MOTOROLA MB511 (Flipout)'), (0.18840579710144928, 'RUBBER COATED HARD CASE FOR CASIO G ZONE RAVINE 2 C781 RUBBERIZED ORANGE'), (0.18627450980392157, 'Lenovo A706 4.5 Inch Unlocked Smart Phone-(854x480) IPS MSM8225Q 1.2 Quad Core 1GB/4GB Dual SIM GBS Bluetooth TF-White(Rooted+Google Play)'), (0.18591549295774648, 'Pharos Traveler 137 3G GPS Unlocked Phone with Quad-Band 850, 900, 1800, 1900 GSM, GPRS, EDGE, Turn-by-Turn Voice Guidance, Free Live Traffic, Gas Prices, Movie Times, WVGA Display, Wi-Fi, Stereo Bluetooth, FM Tuner, and 3.1MP Auto Focus Camera--International Version with Warranty (Black)'), (0.18575851393188855, 'Canon PowerShot SX160 IS 16.0 MP Digital Camera with 16x Wide-Angle Optical Image Stabilized Zoom with 3.0-Inch LCD (Red) + 4 AA High Capacity Batteries with Quick Charger + 10pc Bundle 32GB Deluxe Accessory Kit w/ HeroFiber&reg; Ultra Gentle Cleaning Cloth'), (0.18571428571428572, 'N9776 Android OS V4.0.9 dual sim card cell phone unlocked touch cell phone'), (0.18518518518518517, 'Apple iPhone 4 16GB (Black) - CDMA Verizon'), (0.18518518518518517, 'Cubot ONE 4.7&quot; Capacitive HD LTPS 1280x720 Android 4.2 Quad Core MTK6589T 1.5GHz 3G Smartphone Android Phone with Wi-Fi, 5.0MP &amp; 12.0MP Dual Camera &amp; GPS/A-GPS (1GB RAM &amp; 8GB ROM) (White)'), (0.18450184501845018, 'OnceAll Neken N6 5&quot; Capacitive IPS Retina Touch Screen 1920x1080 Android 4.2 Quad-Core MTK6589T 1.5GHz 3G Phablet Mobile Phone with Bluetooth, Wi-Fi (1GB RAM &amp; 16GB ROM) (5.0M &amp; 13.0M) (White)'), (0.1834862385321101, 'Apple iPhone 4S 32GB 3G iOS Black - Verizon'), (0.18309859154929578, 'Colorful Leopard Phone Protector Faceplate Cover For MOTOROLA MB511(Flipout)'), (0.18309859154929578, 'Unlocked 6.0-inch Smartphone I9977 Android 4.0 Mtk6577 Dual SIM Mobile Phone'), (0.18181818181818182, '6.0&quot; FWVGA Screen MTK6577 Dual Core 1.2GHz Android 4.0 3G Smart Phone N9776 (White)'), (0.18181818181818182, '70dB Gain GSM/3G 850MHz Cell Phone Mobile signal Booster Repeater Amplifier Kit With Indoor Omni-directional Rubber Antenna Outdoor Tubular Antenna For Home Or Office With All Accessories'), (0.18181818181818182, 'Sony Xperia L C2105 White (Factory Unlocked) 4.3&quot; , 8 Mp, 1 GHZ Dual Core , 8gb Fast Shipping All the World By Fedex'), (0.18064516129032257, 'Samsung S8300 UltraTOUCH Platinum Unlocked Phone--International Version No Warranty (Red)'), (0.18045112781954886, 'Nokia Lumia 900 16GB black -factory unlocked- international version'), (0.18032786885245902, 'Duralumin A7075 Curvacios Bumper for iPhone 5 / 5S Black'), (0.18032786885245902, 'Duralumin A7075 Curvacios Bumper for iPhone 5 / 5S White'), (0.1787709497206704, 'Sony Xperia Go ST27i Black IP67 certified Factory Unlocked International Version by New Generation Products LLC.,'), (0.17834394904458598, '6X OPTICAL ZOOM TELESCOPE CAMERA LENS FOR NOKIA N8 Repair Parts Replacement AccessoriesShop'), (0.1780821917808219, 'Star N9770 Smart Phone Android 4.0 MTK6577 dual core1.0GHz 3G GPS WiFi 8MPcamera'), (0.17777777777777778, 'Verizon Motorola Droid 2 A955 3G QWERTY Touch Android Smartphone Blue'), (0.17708333333333334, 'Lenovo S650 4.7-Inch Quad Core MTK6582 (IPS Gorilla 960*540px) Smartphone - 1GB RAM 8GB ROM 0.3MP/8.0MP dual camera +LED Flash'), (0.17699115044247787, 'Apple iPhone 4 Black Smartphone 32GB (AT&amp;T)'), (0.176, 'White Soft Skin Silicone Gel Case Cover For Nokia Lumia 810'), (0.17486338797814208, 'For Samsung Galaxy S4 GT-i9500 Blue ~ LCD Display+Touch Screen Digitizer+Frame ~ Mobile Phone Repair Part Replacement'), (0.17391304347826086, 'DUAL SIM UNLOCKED QUAN BAND*WORLD PHONE* WiFi QWERTY KEYBOARD TOUCH SCREEN GSM CELL PHONE WHITE'), (0.17391304347826086, 'Cambridge Audio Minx Go Speaker for Bluetooth Compatible Devices - Black'), (0.17391304347826086, 'For Samsung Galaxy S4 GT-i9500 White ~ LCD Display+Touch Screen Digitizer+Frame ~ Mobile Phone Repair Part Replacement'), (0.17391304347826086, 'Samsung Galaxy S3 Mini I8200 8GB Value Edition Unlocked GSM Phone - Blue'), (0.17297297297297298, 'HTC 8x Blue (Factory Unlocked) Windows Phone 8, Dual-core 1.5 Ghz Snapdragon Specail Gift for Special One Fast Shipping'), (0.17297297297297298, 'CUBOT ONE 4.7&quot; IPS Screen Capacitive Touch MTK6589T Android 4.2.1 Quad Core 3G Phone + 8MP CAM (1GB RAM + 8GB ROM)'), (0.1728395061728395, 'BLU Vivo 4.3 D910a Unlocked Phone with 4.3-Inch Super AMOLED Plus Display, Dual SIM 3G 850/1900, Dual Core 1GHz Processor, Android 4.1.1Jelly Bean, and 8 MP Camera - US Warranty'), (0.1711229946524064, 'Sony Xperia L C2105 Black (Factory Unlocked) 4.3&quot; , 8 Mp, 1 GHZ Dual Core , 8gb Fast Shipping All the World By Fedex'), (0.1702127659574468, 'Casio GzOne Ravine 2 Verizon'), (0.16901408450704225, 'Virgin Mobile - Apple Iphone 4s 16gb Memory No-contract Mobile Phone - White'), (0.16901408450704225, 'Nokia Lumia 810 8GB T-Mobile Phone with Windows 8 OS, 8MP Camera + Seconday 1.2MP Camera, Video, Dual-Core Processor, Dolby Sound Enhancement, Nokia ClearBlack Display, 4.3&quot; AMOLED Touchscreen, GPS, Wi-Fi, Bluetooth, MP3/MP4 Player, SNS Integration and microSD Slot up to 64GB - Black'), (0.1686746987951807, 'Lg L70 D320 Black'), (0.16842105263157894, 'At&amp;t Blackberry Bold 9900'), (0.16666666666666666, 'Breezy Midnight Phone Protector Cover for MOTOROLA MB511 (Flipout)'), (0.16666666666666666, 'Apple iPhone 4 16GB (White) - Verizon CDMA No SIM Slot'), (0.16666666666666666, 'For Nokia Lumia 810 Silicone Jelly Skin Cover Case Black Accessory'), (0.16666666666666666, 'Unlock N9389 Ultra-thin Android PAD (Android 4.1.2 OS) 5.3 Inch Screen 3G 8MP (White) by Mango Natural'), (0.1652892561983471, 'BLU Vivo 4.3 D910i Unlocked Phone with 4.3-Inch Super AMOLED Plus Display, Dual SIM 3G 850/2100, Dual Core 1GHz Processor, Android 4.1 Jelly Bean, and 8 MP Camera - US Warranty'), (0.1651376146788991, 'Net Hard Back Case Cover for Nokia N8 Black'), (0.1645021645021645, 'HTC 8X 8GB Unlocked GSM Phone with Windows 8 OS, 4.3&quot; HD Display, 8MP Camera, 1.5 GHz Qualcomm Dual-Core Processor, Beats Audio, GPS, Wi-Fi and Bluetooth - Blue'), (0.16393442622950818, 'Apple iPhone 4 16GB Black No Contract Verizon Cell Phone'), (0.16346153846153846, \"Unlock White N7300 Smartphone 8MP Camera 5.7'' HD Screen Android 4.1.2 3th High Spend MT6589 3G WIFI 1.2GHz 720 x 1280 pixels by Mango Natural\"), (0.16326530612244897, 'iGadgitz S Line Clear Durable Crystal Gel Skin (TPU) Case Cover for Sony Xperia L Android Smartphone Cell Phone + Screen Protector'), (0.16326530612244897, 'iGadgitz S Line Black Durable Crystal Gel Skin (TPU) Case Cover for Sony Xperia L Android Smartphone Cell Phone + Screen Protector'), (0.16289592760180996, 'BLU Life Play Unlocked Dual Sim Phone with Quad-Core 1.2GHz Processor, Android 4.2 JB, 4.7-inch IPS HD Display, 4G HSPA+ up to 42Mbps and 8MP Camera (Blue)'), (0.16289592760180996, 'BLU Life Play Unlocked Dual Sim Phone with Quad-Core 1.2GHz Processor, Android 4.2 JB, 4.7-inch IPS HD Display, 4G HSPA+ up to 42Mbps and 8MP Camera (Pink)'), (0.16216216216216217, 'BLU Life Play Unlocked Dual Sim Phone with Quad-Core 1.2GHz Processor, Android 4.2 JB, 4.7-inch IPS HD Display, 4G HSPA+ up to 42Mbps and 8MP Camera (White)'), (0.16176470588235295, 'Hard Diamond Design Phone Cover Case Phoenix Tail For Motorola FLIPOUT'), (0.1615598885793872, 'Nokia Lumia 810 8GB Unlocked GSM Phone with Windows 8 OS, 8MP Camera + Seconday 1.2MP Camera, Video, Dual-Core Processor, Dolby Sound Enhancement, Nokia ClearBlack Display, 4.3&quot; AMOLED Touchscreen, GPS, Wi-Fi, Bluetooth, MP3/MP4 Player, SNS Integration and microSD Slot up to 64GB - Black'), (0.16143497757847533, 'BLU Life Play Unlocked Dual Sim Phone with Quad-Core 1.2GHz Processor, Android 4.2 JB, 4.7-inch IPS HD Display, 4G HSPA+ up to 42Mbps and 8MP Camera (Yellow)'), (0.16129032258064516, '(KINGELON) N8800 5.5&quot; AMOLED Screen MTK6592 8-Core Android 4.2.2 3G Unlocked Phone 13MP CAM 1GB RAM 8GB ROM - Black'), (0.16129032258064516, '(KINGELON) N8800 5.5&quot; AMOLED Screen MTK6592 8-Core Android 4.2.2 3G Unlocked Phone 13MP CAM 1GB RAM 8GB ROM - White'), (0.16058394160583941, 'For Nokia Lumia 810 Silicone Jelly Skin Cover Case Neon Green Accessory'), (0.15979381443298968, 'Unlock S7589 MT6589 Quad Core 1.7 GHZ RAM 1G ROM 4G Arc touchscreen 5.7 HD Screen IPS 1280X720 pixel WCDMA/GSM four-bands Mobile AP wifi GPS+AGPS Light sensor Gravity Sensor Proximity sensor 8MP AF 3MP front camera flash light, 10.2mm thin body acme Ultra-thin Android PAD Android v4.1.2 jelly bean (Gray) by Mango Natural'), (0.15942028985507245, 'Chalkboard Star Black Phone Protector Cover for MOTOROLA MB511 (Flipout)'), (0.15859030837004406, 'BLU Life Play L100I Unlocked Dual Sim Phone with Quad-Core 1.2GHz Processor, Android 4.2 JB, 4.7-inch IPS HD Display, 4G HSPA+ up to 42Mbps and 8MP Camera (Grey)'), (0.15748031496062992, 'AT&amp;T Laptop Dock for Motorola ATRIX 4G - Retail Packaging'), (0.1574074074074074, 'No-Contract NET10 BLU Life Play with Quad-Core 1.2GHz Processor, Android 4.2 JB, 4.7-inch IPS HD Display, 4G HSPA+ up to 42Mbps and 8MP Camera (White)'), (0.1568627450980392, 'HTC Touch Diamond 4 GB Unlocked Phone with 3G, 3.2 MP Camera, MP3/Video Player, and Windows Mobile 6.1--U.S. Version with Warranty (Black)'), (0.15544041450777202, 'SIM 5000 - 5000 Watt Voltage Power Converter Step Up/Down Transformer. Converts 110V to 220V or 220V to 110V for Worldwide Use.'), (0.15384615384615385, 'HTC Windows Phone 8X - Windows Phone 8, 16GB -4.3&quot; Smart-Phone -New Unlocked - Blue - Retail boxed'), (0.15311004784688995, 'Nokia N8 Black Leather Carrying Case + Black Case Cover Silicone + Premuim LCD Screen Protetor + Rapid Car Charger Accessory Combo For Nokia N8'), (0.15286624203821655, 'ThL W200 Android 4.2 Smart Phone MTK6589T 1.5GHz 8GB ROM Dual Camera 5.0 Inch HD IPS Screen'), (0.15267175572519084, 'Spring Flowers Phone Protector Cover for MOTOROLA MB511 (Flipout)'), (0.15267175572519084, 'Apple iPhone 4S mobile phone 16Gb Black MD865LL/A - Virgin Mobile'), (0.1507537688442211, '3x Magellan RoadMate 9212T-LM 9250T 9250T-LMB GPS Premium Clear LCD Screen Protector Cover Guard Shield Film Kit (Package by GUARMOR)'), (0.15037593984962405, 'Apple iPhone 4 MD200LL/A 8GB White For Verizon (No Contract) Sealed'), (0.14965986394557823, 'N3 Smartphone Android 4.2 MTK6582 Quad Core 5.7 Inch 1GB 8GB IPS HD Screen- White'), (0.1487603305785124, 'Samsung Galaxy S Blaze 4G SGH-T769 GSM Black - T-Mobile'), (0.14659685863874344, \"Unlock B94M Dual Sim Card Quad-Core MT6589 Android 4.1 8MP Camera 4.5'' QHD Screen 540x960 4Gb EMMC 1Gb DDR2 By Mango Natural\"), (0.14634146341463414, 'Lapdock for AT&amp;T Motorola ATRIX 4G - Retail Packaging'), (0.14606741573033707, 'iNew V3 Ultrathin Smartphone 5.0 Inch Gorilla Glass OGS Screen MTK6582 Quad Core 1GB 16GB 3G NFC OTG Air Gesture'), (0.14285714285714285, 'Spring Flowers Phone Protector Faceplate Cover For MOTOROLA MB511(Flipout)'), (0.14193548387096774, 'Samsung Galaxy S3 Mini (GT-i8190 / GT-I8200) factory Unlocked International Verison WHITE'), (0.1411764705882353, 'Sony Xperia U black'), (0.14035087719298245, 'Booming 6.0&quot; Fwvga Screen Mtk6577 Dual Core 1.2ghz Android 4.0 3g Smart Phone N9776 Black &amp; Grey'), (0.14012738853503184, 'Brand New Samsung Galaxy S3 Mini VE GT-i8200 Black (FACTORY UNLOCKED) 8GB , 4.0&quot; , 5MP'), (0.1388888888888889, 'For Samsung Galaxy S3 Mini i8190 Hard Design Cover Case Carbon Fiber Accessory'), (0.13836477987421383, 'Makayama Movie Mount for iPad Air - Custom Universal Mount Fits other optional mobile inserts'), (0.136986301369863, 'Samsung Galaxy S3 Mini GT-i8200 White (Value Edition) Factory Unlocked Android P'), (0.13432835820895522, 'Skull Diamante Protector Faceplate Cover For MOTOROLA MB511(Flipout)'), (0.1342281879194631, 'Generic PADPhone 6.0&quot; AMOLED Screen, Android 4.0.9 OS MT6577-1.2GHZ ORG COlor,'), (0.1320754716981132, 'Nokia Silicone Cover for Nokia N8 - Lime'), (0.13138686131386862, 'Genuine OEM BMW Apple iPhone 4 Media / BMW APPS Version Snap In Adapter'), (0.13071895424836602, 'BW Star S7589 Smart Phone MTK6589 Quad Core 5.8 Inch HD Screen Android 4.1 1G RAM White'), (0.12903225806451613, 'iOcean X7 pro - 5 Inch 1080P Full HD Screen, 1.5GHz quad core, 441PPI, 9mm Ultra slim Android 4.2 SmartPhone Dual SIM GPS, Bluetooth 13MP (Black,white)'), (0.12857142857142856, 'Samsung Galaxy S3 GT-i8190 Mini Blue 8GB factory Unlocked 3G 900/1900/2100'), (0.12804878048780488, 'HTC Vivid X710a 16GB Unlocked GSM Phone with Android 2.3 OS, Dual-Core, 4.5&quot; S-LCD Touchscreen (HTC Sense UI), 8MP Camera + Secondary 1.3MP Camera, Video, GPS, Wi-Fi, Bluetooth, FM Radio, MP3/MP4 Player, SNS Integration, Google Apps and microSD Slot - Black'), (0.12658227848101267, 'Apple iPhone 4 16GB No Contract Verizon Smartphone / Ready To Activate / No Contract - Black'), (0.12142857142857143, 'Fosmon 7 in 1 Bundle for Samsung Galaxy S3 S III - 1x Fosmon DualShell PC + Silicone Hybrid Case (Black / Purple), Fosmon *3 Pack* Crystal Clear Screen Protectors, 1x Home Charger, 1x Car Charger, 1x USB Data Cable'), (0.1206896551724138, 'Amzer Silicone Skin Jelly Case for Nokia N8 - Gray'), (0.12, 'Lenovo P770 MTK6577 dual core 1.2GHz Android 4.1 4.5&quot; IPS 1GB RAM 3500MAH WCDMA'), (0.11965811965811966, 'Amzer Silicone Skin Jelly Case for Nokia N8 - Black'), (0.11428571428571428, 'Cortex A7 Quad Core 1.2Ghz Unlocked Phone, HD 5&quot; IPS 1280 x 720 Pixels Touchscreen, 1G RAM, 8G ROM, Dual Cameras (5M Front / 13M Rear), Light/Proximity/Gravity Sensor (WHITE)'), (0.11428571428571428, 'Cortex A7 Quad Core 1.2Ghz Unlocked Phone, HD 5&quot; IPS 1280 x 720 Pixels Touchscreen, 1G RAM, 8G ROM, Dual Cameras (5M Front / 13M Rear), Light/Proximity/Gravity Sensor (WHITE)'), (0.11392405063291139, \"Lenovo Lephone P770 Dual-core ARM Cortex-A9 Android OS 4.1 1.2GHz 3G WCDMA 4.5'' IPS 3500mAh\"), (0.11267605633802817, 'Red Smooth Rubber Feel Protective Case for Motorola Flipout (MB511) AT&amp;T'), (0.11235955056179775, 'PAE7189 Unlocked Android Phone 4.2.1 Jelly Bean 5.3 Inch Screen MTK6589 Quad-Core 1.2GHz 1G RAM 4G ROM Dual SIM 4G HSPA+ Tether WiFi GPS AT&amp;T Straight Talk T-Mobile Net10 - Shipping from California'), (0.1111111111111111, 'TPU Silicone Case Cover for Nokia N8 Clear'), (0.10714285714285714, 'iPhone 4 VIRGIN MOBILE. 8gb. Clean ESN (White)'), (0.10526315789473684, 'SmartWatch'), (0.09649122807017543, 'Motorola MB511/Flipout Combo Rubber Feel Neon Green Protective Case Faceplate Cover + LCD Screen Protector + USB Data Charge Sync Cable for Motorola MB511/Flipout'), (0.09467455621301775, 'Ulefone U9000 Smartphone Android 4.2 Mtk6589 Quad Core 5.7 Inch Hd IPS Screen 3g GPS Air Gesture- White'), (0.09433962264150944, 'PhoneLabs Dock-N-Talk w/ Bluetooth inclu'), (0.0759493670886076, 'iPhone 5s, 16gb. Gold. No Contract. Virgin Mobile. Facetime, Retina Display, iCloud and more'), (0.06593406593406594, 'onetouch Idol 6030D slate'), (0.057971014492753624, nan), (0.057971014492753624, nan), (0.057971014492753624, nan), (0.057971014492753624, nan), (0.057971014492753624, nan), (0.057971014492753624, nan), (0.057971014492753624, nan), (0.057971014492753624, nan), (0.057971014492753624, nan), (0.057971014492753624, nan), (0.057971014492753624, nan), (0.057971014492753624, nan), (0.057971014492753624, nan), (0.057971014492753624, nan), (0.053763440860215055, 'Phone Touch screen lcd separator machine screen glass seperate machine for iphone samsung S3 S4 Glass Lens repair (110V)')]\n"
     ]
    }
   ],
   "source": [
    "import difflib\n",
    "from difflib import SequenceMatcher\n",
    "import math\n",
    "\n",
    "string = 'Plantronics CS530 Office Wireless Headset with Extended Microphone'\n",
    "name = string.lower()\n",
    "price = 182.17\n",
    "titles = [title for title in df_meta['title'][df_meta['price']<= price + 10.0][df_meta['price']>=max(0,price-10.0)]]\n",
    "tuples = []\n",
    "for title in titles:\n",
    "        m = SequenceMatcher(None, str(title).lower(), name)\n",
    "        tuples.append((m.ratio(), title))\n",
    "        \n",
    "sorted_tuples = sorted(tuples, key=lambda x: x[0], reverse=True)\n",
    "print sorted_tuples"
   ]
  },
  {
   "cell_type": "code",
   "execution_count": 23,
   "metadata": {
    "collapsed": false
   },
   "outputs": [
    {
     "name": "stdout",
     "output_type": "stream",
     "text": [
      "Plantronics CS530 Wireless Headset System - Black\n",
      "B0082DCPQ4\n"
     ]
    },
    {
     "data": {
      "text/plain": [
       "['I got 2 of these for myself and my receptionist and we both LOVE them. They are very convenient, the quality is great, and they are comfortable to boot!',\n",
       " 'Easy set up and works great all around the office. I have a 6000 square foot office and have not lost a call. Great call quality.',\n",
       " 'I have used 2 of these throughout my career....they are amazing and take all the strain off your neck when on the phone',\n",
       " \"Everything I wanted. The range and sound are both great. I already was used to the fit of the older version, and this one fits just the same, so I found it comfortable. The base looks slick too, and I love the magnetic dock. No more coming into the office in the morning to an uncharged headset because I didn't seat it in the charger properly the night before.\",\n",
       " 'Very nice product. Excellent reception. Works well in office atmosphere with no interference with other. I would recommend to all.',\n",
       " 'I use this item in an office setting.  I have tried a few other brands and found that none of them measure up to this plantronics.  DO NOT use the ATT version - it is garbage for a few dollars less. Spend the $20 and buy this product.I have this one and an older one that I have been using for two year.  Both work great.  I use them a ton and they are very reliable.',\n",
       " 'We have 6 Plantronic headsets in our call center, and everyone loves them.  They have great range, and the sounds and clarity is awesome.  I will continue to buy plantronics.',\n",
       " 'I bought this upgrade when my CS70N headset battery went dead and would no longer hold a charge. I had the previous model for about 1.5 yrs before it went dead (which sucks), but it is what it is. Customer service offered to replace the my CS70N headset for $56 if I shipped them the defective product, but there was no guarantee my docking station was not also defective, so I opted to just replace all components to a new model.The docking base on the CS530 looks really nice with a shiny piano black finish. Only took about 20 minutes for initial charge to use. I also had the HL10 handset lifter already from the previous model (which is compatible with CS500 series models), so everything plugged in nicely.What I really like about this new model is the charging port. On the CS70N, if you didn\\'t wedge the headset down into the charging cradle tight enough or weren\\'t paying attention to the charge indicator light, you might come into work the next day and find the battery dead. With the CS530 (and I presume all CS500 models), the headset rests comfortably without force into the charging cradle, and it \"feels\" like there\\'s mild magnetic connection to hold the headset in place to ensure it\\'s positioned correctly at all times to pull a solid consistent charge.I don\\'t steer far away from my desk, so I can\\'t speak to the range on this upgrade, but audio quality sounds a little better with this model as well.',\n",
       " 'Comfortable, flexible, great volume control and clarity. The only con...you have to purchase the handset lifter extra, which is $50.',\n",
       " \"These work great.  We've had audio issues with a couple of them (we have about 30 Plantronics headsets), but Plantronics is easy to work with and prompt about replacing defective parts. No complaints.\",\n",
       " 'great price compared to what my co-workers paid for their similar products!Saved my neck from a lifetime of pain as I am on the phone 6+ hours a day.',\n",
       " 'I have this at work and I love it!  It\\'s clear, lasts along time, has good range.  If only bluetooth headsets for my iphone were as good as this thing!!!  The magnetic base is a little tricky to get to attach each time, but otherwise it works great.  I wear glasses, and it\\'s not the best fit but works fine.  I\\'m able to stick it in my ear quickly when I get a call.  You press a button on the side of the unit to turn it on, then you press the \"headset\" button on your phone, and then you get the dial tone in your ear.  But call quality is great both when speaking and listening.  I love this thing and everyone should have these at work!!!',\n",
       " 'This headset is very convenient and comfortable. Its battery life is also very efficient and you can speak for up to at least 5 hours at a time.',\n",
       " 'I rarely write reviews but this one deserves an A+.  Customers can here me clearly and it feels great around my ear.  Definitely purchase this unit if you are on the fence with something like a Jabra (piece of junk).',\n",
       " \"I used one of these headsets for a previous job, so when my new job required a lot of phone use, I purchased this headset. It works perfectly and is very comfortable to wear... I forget I have it on most of the time. I work in a reasonable sized office (5000 sqft) and haven't had any problems with connectivity while on a call and walking to the printer or another part of the office. Very glad I purchased this item! I would recommend the hookswitch as an add on because it makes taking/making a call so much more convenient.\",\n",
       " \"I used the earlier model for about 4 years, no problem except one: it was difficult to place the headset in the charger properly, to make sure it's recharging.With the new model that problem is solved by a magnet.This is a great headset.\",\n",
       " 'I shopped for a long time on wireless ear peices for my office phone.  This model is a little bit more expensive then some of the others, but once I received, it was clear why.  Light weight on my ear, easy to adjust boom, and super simple set up.  My only complaint is when changing the ear mold, it is really difficult to switch them out.  Maybe its just me?',\n",
       " 'Lightweight, very easy to assemble the entire unit. We are extremely pleased with this product and our choice. Very clear crisp line I praise this ear piece! The base unit has lights that really do help to know if your ear piece is charged or charging. It also lights up when in use. I also purchased hand lifter to answer calls away from my desk. I cannot praise this product enough. We also saved by purchasing amazon.com and bought 2 for the price of 1. *************',\n",
       " 'This headset is great!  I recently had my IT department order one of these for me at work and I use it on average between 4 and 6 hours a day.  This headset rocks.  The quality talking on it is great, never a problem hearing the person on the other end, and it works hundreds of feet away from my desk so I can answer calls and talk on the phone from the warehouse or the kitchen.  The battery on the headset is what I need it to be, it never runs out during the day.  I have worked in telemarketing before, so I have used lots of headsets, this one is hands down GREAT!',\n",
       " \"I purchased this headset to replace my old Plantronics CS70 headset which has been my workhorse for the past 8 years. The battery finally died on the headset and it was put to rest with all suitable reverence.  I used the lifter that I bought with my old unit and it works just as well with the new one so if you are replacing the old CS70 and you already have the lifter there is no need to purchase a new one.The fit of this unit is exactly the same as the old one and to me is extremely comfortable so I happen to like the fit.  I also think the unit is quite handsome.  The old CS70 was beginning to look a little dated but this system has a really nice modern design which I also like.Fit and aesthetics aside, the real meat and potatoes is whether it works the way its supposed to.  You can have the best fitting, eye catching piece of equipment in the world but if it doesn't work, it's worthless.First let me say I use this in my office at work and after little trial and error I got it work, the connectors are different than my old model but to say it was a problem to set up would be an overstatement.  There is also a 1800 number you can call, which I did, to set up the volumes, this was a breeze.  I don't stray too far from my desk, maybe 30 feet max and the sound quality was just as good as if I was right next to base station.  I get no feedback or screeching as others have reported, and maybe due to their phone systems.  My voice is transmitted crystal clear as are the voices with those I speak.It's safe to say I'm a fan of Plantronics, I also use their Bluetooth headset for my cellphone and I've been fortunate that I have never experienced any problems with either product.I'm very satisfied with this product and I'm looking forward to many years of great performance from it.\",\n",
       " 'Sound quality, battery life, range are all exceptional.  My phone required the L10 lifter which also works well and was easy to setup.',\n",
       " 'Works well. No problems. Easy to set up. Would buy again. Was a good replacement for the one we were using.',\n",
       " 'We have used Plantronics products for years....just another great product.  If you are on the phone alot this is a great time saver as you can talk and type into client files.',\n",
       " 'Great headset. Easy to set up and has awesome audio quality. Anyone looking for a new headset should get this.',\n",
       " 'I owned a corded headset for years and it worked well.  This cordless one is way better.  It works just like it is supposed to.',\n",
       " \"This is a great device!  Haven't had any complaints from the 10 people that have them in our office!  Would purchase again!\",\n",
       " 'Comfortable and easy to set up.  Very clear voice calls.  Well worth the money.  TOo bad it makes me feel like I am working in a call center now.',\n",
       " 'I love that my hands are free to keep working whileI talk and take orders on the phone, It makes melook very efficient!',\n",
       " \"Love this equipment..  Team can't live without it.. We have had them for over a year and they still work great\",\n",
       " \"I was frustrated by my Jabra GN9125's fuzziness. The sound always was slightly distorted and people on the other end complained of sound not being clear. I bought this and 1 month later am delighted. Crystal clear reception and speech. Easy to use and far more comfortable than the Jabra design. Wish I had bought this sooner.\",\n",
       " 'Love this product and its features. I can roam around in my house and answer a call at any time.',\n",
       " \"I was torn between getting this sleeker looking headset or one of the less expensive ones offered.  I'm very glad I went with this one.  The earpiece is quite comfortable, docking it into the charger is easy, and setup was simple.  I haven't tested the battery or range too much yet, but so far so good.  I would definitely recommend this headset.\",\n",
       " 'The item was brand new, it works great, looks great and it was very simple to set up.No more kinks in my neck from the phone receiver.Thank you,',\n",
       " 'Amazon offers the WRONG headset lifter with this item!! Please save yourself the headache and make sure you purchase the Plantronics HL10 Savi Handset Lifter if you want this to work!',\n",
       " 'Sound quality is very good & range also. Matches the decor in my office very easy to install and set up',\n",
       " 'The headset was a snap to connect to our archaic digital Toshiba phone.  Instructions clearly detailed what settings to change in case of interference (which I did initially have).  After making the suggested adjustments (which only took several phone calls) the headset has worked flawlessly.',\n",
       " 'I love this product, and use it all day, every day!  Using t his  headset allows me to keep both of my hands free to be doing other things while speaking on the phone!  Seller was great, and delivered quickly!',\n",
       " 'Awesome Vendor! Product was nicely packaged and got here quick. I had the old version and this one is much easier to use- sound is clear, set up is pretty straight forward.',\n",
       " 'Picked this up for our front office staff.  It has some pretty amazing range ( I would guess about 80 to 100 feet, office staff can walk all the way from the front reception area to the back kitchen before it starts cutting out ).  The ear piece is made of soft neoprene/plastic that is comfortable and there are several different options for the ear piece to fit different ears.  Operation is simple and with the following cable we were able to utilize the headset to pickup a call without a handset lifter.  Charge lasts all day ( 8 hour plus shift ).Here is a link to the HookSwitch cable we needed for a Polycom HD650 phone ( to pickup a call using the button on the headset ).http://www.amazon.com/gp/product/B007ZLLH22/ref=oh_details_o03_s00_i00?ie=UTF8&psc;=1',\n",
       " 'This order arrived on time in excellent condition.  I ordered this one to replace an older similar Plantronics Headset that would no longer hold a charge.  I wear it every day and it really holds a charge.  Some times it has not even  used enough battery to need a charge at the end of the day. I have not tested it on the weekend to see how long it would take to deplete the battery completely yet. This new one is a little tighter around the ear than my old one but I think it will loosen with time and is not too uncomfortable. Since my last one lasted for 4 or 5 years with everyday use I think they make a good product.',\n",
       " 'If you are not using a wireless headset you are missing out.  This one is great!  Quality sound, comfortable fit, great value.',\n",
       " 'The president of our company went to the doctor because of chronic ear aches.  The doctor asked if he was a telephone operator, he said no, but... he was on conference calls 4 - 6 hours many days and was using a Plantronics CS55.  That headset is a bit heavy and digs into the ear a bit.  This was his email to me about this new one: &#34;Just wanted to let you know that this new headset is amazingly comfortable!  I can&#8217;t believe I&#8217;ve put up with a sore ear for so long.  Thanks so much.&#34;He said the weight is more evenly distributed around the ear.This is being used with a Cisco IP Phone 7960 series and the cable to take it directly into the headset jack.  The configuration switch on the base needed to be changed to &#34;D&#34; and the &#34;Speaking Volume Dial&#34; turned down from 3 to 1.  The 3 setting caused echo in the headset speaker.',\n",
       " 'light and comfortable.  the volume control works well and very easy to install/  stays charged for a long time.  would buy again',\n",
       " 'Great sound quality.  Improved walking range over previous model. My previous model lasted 10 years until electric surge did it in. Worth the money.',\n",
       " 'loved the older model of this but after a couple of years the band at the very top started to break and I was losing phone connections so I got this model  the new version operates just as the older model but with a major improvement in the base.  On the older model you had to check the light to ensure the headset made contact with the base to recharge it at the end of the day (several times I would come in the next morning and no charge)...on this model it will really only sit in it one way and &#34;clicks&#34; into place to ensure a good connection with the base charger.  The range is also a little better than on my previous model...can get a little farther down the hall on this one than I could on the older one.',\n",
       " 'I have been using an add on to my phone at work for some time now and have found that my neck is hurting more and more. This headset system is easy to install and power up. It is comfortable to wear and you can clearly hear every conversation that comes through.',\n",
       " \"I'm on the phone extensively every day Monday through Friday at work. This makes my life so much more easy to tolerate at work. I can do whatever I'm doing with my hands and when I received a phone call I just touch a button at my ear and start talking. The quality is excellently made and most importantly, the clarity of my speech going out and their speech coming in couldn't be any better. I put the headset on when I get to work. Sometimes, I take a lunch break for 30 minutes, during which I will recharge it a little or I will work straight through from 8 AM to 5 PM and never take the Plantronics headset off and the battery is fine all day long. Would most definitely recommend you buying this one. I would know because I have a very close, hands on use on use for this as it stays on my ear about 45 hours a week.\",\n",
       " 'Easy to set up.  Easy to use.  Easy to wear.  After a month of use, the battery seems to be very good.',\n",
       " \"Exactly what I wanted...crystal clear - no one can tell you are on a headset.  Could be less expensive, but these types of commercial head sets don't come cheap and you probably get what you pay for...;-)\",\n",
       " \"DECT provides &#34;wire-grade&#34; voice with no radio distortions or poor voice quality.  For IP telephony, no echo heard by those on the far end and they also can't tell that you're not using a handset.  Comfortable to wear for hours, long-lived battery, and slick magnet system to positively engage charging.  LEDs on base tell you status and I love that when I take the headset out of the stand it goes off automagically.\",\n",
       " 'This product has a much easier set-up than the previous model.  Once I got used to it, I like the over-the-ear headset.  Reasonable price; excellent delivery time.  I would recommend this product.',\n",
       " 'Works better than we expected!  I May look into purchaseing more units for other members that are in my office',\n",
       " 'As far as i am concerned, these are the best headsets on the market.  They are lightweight and very comfortable to wear all day.  The battery life is solid and allows me to go all day.  The mic is small and unobtrusive.  The sound quality is perfect...maybe better than my hand set (thanks to noise canceling technology).  You wont go wrong with this one!',\n",
       " \"Once I called the company and the tech talked me through the setup with our phone system, we were happy campers. I can answer the phone from the back of the office. I don't have to run to the front desk to answer. The reception is marvelous. The only thing it cannot do is make the first call.The Plantronics tech was a jewel of the highest rank. He was patient and helpful, and once he talked me through the setup, he repeated the directions so I could write them down and not forget anything when I set up the other two phones in the office. He was wonderful. Thank you, Plantronics, for hiring and training him. Wish I knew his name. He deserves a raise!!\",\n",
       " 'I purchased this head set for my home office. It has great noise cancelling and I never have to crank it up to a loud volume.',\n",
       " \"Works great I would recommend the Electronic Hook Switch - if your phone has this feature.One drawback with Pantronics CS530 when compared to an earlier version I owned before this one is that the CS530's headset battery dies a lot faster than the model I replaced.\",\n",
       " 'The headset was easy to set-up, battery life can last the whole day as long as you turn off the headset after each call.  The only issue I run into is the &#34;echo&#34; effect&#34; which is from my voice, the headset will change after a few seconds.  Outside of that it is comfortable with my glasses on.',\n",
       " 'I talk on the phone with clients about 4 hours out of the day, and need my hands free to work on the computer at the same time.  This unit works great - sound quality is awesome, range is great.  Highly recommend.  Only reason for not giving it 5 stars is that the fit into the docking station to get the unit to charge is not as seamless as it should be - not really a huge problem, but you have to jostle it a bit to make sure the charge light comes on, or risk coming in to a dead phone the next morning.',\n",
       " \"Slick and light, really good range and you can hear well from it. The price was just right. The base is simple and small.My only two quirks with it are: if it's not set on the charger JUST RIGHT it wont click into the charger and will not charge properly. The best way to know is to make sure the bottom right green light turns on when you deposit it into the charger. As well, it will randomly go into dead-air but the person is still on the other line and can hear you- it will just do that randomly. These are annoying, but not bad enough to warrant a return :)\",\n",
       " 'I have had one of these on my desk for some time. When it was time to replace the headsets for my contact center management team, this is what I wanted for them. Great audio quality. Excellent range. Sturdy headset. Great battery life.',\n",
       " 'Use in conjunction with NEC SL1100 digital telephone to provide user with remote phone capability. I have to say I hate using Plantronics because their product pre-sales support is dreadful.',\n",
       " 'The range is astonishing compared to my old CS55.  Headset piece is a little bulky but more comfortable than the CS55 in my opinion.  So far I love the headset although the mute feature takes nearly 4 or 5 seconds to activate / deactivate using the - volumn button on the headset even though the manual indicates it should be 1.5 seconds.',\n",
       " 'I bought this for work and it sounds great.  only drawback is you can not put it on mute.  This is a problem especially if you are on a conference call and are walking around your house where there might be a dog barking or a dishwasher running! :)',\n",
       " 'Difficult to seat properly in the recharger',\n",
       " \"Once working, I like this headset a lot.  One problem was switching the earbud.  It comes with a generic ear pad attached but also includes 3 different sizes of pieces that actually fit in the ear.  According to the instructions, it should have been an easy twist to remove.  Not so, I spent 15-20 minutes trying various twists and finally had to have someone from our telecommunications office come up and make the switch.When I'm using it however, I like it a lot.  Comfortable and works well, and, other than the earbud, was relatively easy to set up with a great 800-number walk through.\",\n",
       " \"I've been buying plantronics for years, and love their product.  This is a great system, and the headset is surprisingly light and pretty comfortable.  I recommend it.\",\n",
       " 'Works well. Very pleased. Has a very nice range. Battery lasts quiet a long time in between charges. Well pleased',\n",
       " 'There are issues with feedback that comes and goes on my end of the line however the benefits outweigh the problem.',\n",
       " 'Works well. Came in good condition and worked with the old lifter that we had. Ear pieces may not apepal to everyone.',\n",
       " \"It fits well on the ear and didn't take long to charge before using.  It also was a good price.\",\n",
       " \"I love plantronics' devices! This wireless headset has noise cancelling technology, which is great for our office. The headset is very comfortable and it has switchable ear plugs so you can customize it to your ear. The only downside to the headset is that the part hooks to your ear is a little too big for my ear, so I have to readjust it about four times a day (which is not too inconvenient).\",\n",
       " 'Love it. Much better than being tethered. Light weight and easy to wear.  Economical as well. Pleased with the product. Battery life could be longer but i manage by charging over lunch.',\n",
       " \"What I Like:-Docking system makes this headset simple to use and keep charged-Can quickly take the headset off the dock and put in ear when the phone rings - don't have to wear it constantly-Great call quality on both ends-Good volume controls-Easy to set up, just plug-and-play-Good range - I can walk around the whole office on the phone (not that I really ever do)-Sleek look-Comfortable - comes with many ear-tips for a custom fit that's easy to swap-Simple but effective indicator lightsWhat I don't like:-Behind-the-ear piece is a tad bulky (though not terribly so)-I can't answer the phone away from my desk - you have to lift the physical receiver.  It would be nice if this could be integrated somehow, but it doesn't end up being a deal breaker in the end.\",\n",
       " 'Works well for office use...just cannot sync with cell phone.',\n",
       " \"Satisfied with everything EXCEPT the item description indicated the wireless headset could place answered calls on hold & doesn't..  For business purposes, we needed the item to have that ability.  I now have to research & find another wireless headset that does but by then won't be able to return this item.  IF YOU ARE A BUSINESS LOOKING FOR A WIRELESS HEADSET THAT CAN ANSWER & PLACE CALLS ON HOLD DON'T BUY THIS MODEL.\",\n",
       " 'This headset works very well.  The only reason I did not give it 5 stars is that the over the ear piece is large and I have to take my hearing aid off to have it sit comfortably on my ear.',\n",
       " 'This headset is everything I wanted, except I ordered a NEW one and received a used one. The packaging was open and there was fingerprints all over it before I even touched it. I could see them right out of the box. Also the ear pieces were fuzzy instead of brand new foam.',\n",
       " \"This is a good unit.  It is comfortable on my head and the sound quality is very good.  When I answer using the unit it automatically triggers the HL10 Handset Lifter to lift up and also to hang up when I hang up.One reviewer noted, and it happened to me, too, that the Bluetooth pairing for the cellphone doesn't seem to last; e.g., you have to pair the unit again and again.  After the first time, I didn't bother.  The quality of the bluetooth connection wasn't great, and I didn't want to bother with continually pairing.\",\n",
       " 'Although quite expensive, this headset seems to work pretty well. Callers have said voice is very clear, had no idea I was on a headset. Had it for a couple of weeks, so far so good :)',\n",
       " \"This headset seems to work well.  I have had it for about a month now.  Didn't realize until I got it that an extra cable was needed for our VoIP phones.  For the most part it is comfortable.  it came with 4 extra ear buds, 2 foam and to silicone, and different sizes.\"]"
      ]
     },
     "execution_count": 23,
     "metadata": {},
     "output_type": "execute_result"
    }
   ],
   "source": [
    "prod_asin = df_meta[df_meta['title']==\"Plantronics CS530 Wireless Headset System - Black\"]['asin']\n",
    "asin_list =  prod_asin.tolist()\n",
    "#print asin_list[0]\n",
    "review_list = df['reviewText'][df['asin']==asin_list[0]]\n",
    "rating_list = df['overall'][df['asin']==asin_list[0]]\n",
    "asin_table = pd.DataFrame()\n",
    "asin_table['review'] = review_list\n",
    "asin_table['rating'] = rating_list\n",
    "asin_table.sort_values([\"rating\"], inplace=True, ascending=False)  \n",
    "asin_table.reset_index(drop=True, inplace=True)\n",
    "#print asin_table.head()\n",
    "#print len(asin_table)\n",
    "asin_reviews = asin_table['review'].tolist()\n",
    "pos_reviews = asin_reviews[0:80]\n",
    "neg_reviews = asin_reviews[81:]\n",
    "\n",
    "pos_reviews"
   ]
  },
  {
   "cell_type": "code",
   "execution_count": 15,
   "metadata": {
    "collapsed": true
   },
   "outputs": [],
   "source": [
    "reviews = pickle.load(open(\"reviews_10000.p\",\"rb\"))"
   ]
  },
  {
   "cell_type": "code",
   "execution_count": null,
   "metadata": {
    "collapsed": true
   },
   "outputs": [],
   "source": [
    "model = LdaModel.load('headsets_10000.lda')\n",
    "lda_topics = pickle.load(open(\"headsets_topics_from_10000.p\", \"rb\"))\n",
    "corpus = pickle.load(open(\"corpus_10000.p\",\"rb\"))\n",
    "dictionary = pickle.load(open(\"dic_10000.p\",\"rb\"))"
   ]
  },
  {
   "cell_type": "code",
   "execution_count": 56,
   "metadata": {
    "collapsed": false
   },
   "outputs": [
    {
     "name": "stdout",
     "output_type": "stream",
     "text": [
      "[I've been buying plantronics for years, and love their product.  , Slick and light, really good range and you can hear well from it., As well, it will randomly go into dead-air but the person is still on the other line and can hear you- it will just do that randomly., I can do whatever I'm doing with my hands and when I received a phone call I just touch a button at my ear and start talking., . I would know because I have a very close, hands on use on use for this as it stays on my ear about 45 hours a week., It is comfortable to wear and you can clearly hear every conversation that comes through., loved the older model of this but after a couple of years the band at the very top started to break and I was losing phone connections so I got this model  the new version operates just as the older model but with a major improvement in the base.  , My previous model lasted 10 years until electric surge did it in., So far I love the headset although the mute feature takes nearly 4 or 5 seconds to activate / deactivate using the - volumn button on the headset even though the manual indicates it should be 1.5 seconds., The president of our company went to the doctor because of chronic ear aches.  , That headset is a bit heavy and digs into the ear a bit.  , I can&#8217;t believe I&#8217;ve put up with a sore ear for so long.  , Thanks so much.&#34;He said the weight is more evenly distributed around the ear., One problem was switching the earbud.  , It comes with a generic ear pad attached but also includes 3 different sizes of pieces that actually fit in the ear.  , Comfortable and works well, and, other than the earbud, was relatively easy to set up with a great 800-number walk through., The ear piece is made of soft neoprene/plastic that is comfortable and there are several different options for the ear piece to fit different ears.  , I wear it every day and it really holds a charge.  , This new one is a little tighter around the ear than my old one but I think it will loosen with time and is not too uncomfortable., Since my last one lasted for 4 or 5 years with everyday use I think they make a good product., The only reason I did not give it 5 stars is that the over the ear piece is large and I have to take my hearing aid off to have it sit comfortably on my ear., But the earpiece occasionally shrieks in my ear.  , Exactly what I wanted...crystal clear - no one can tell you are on a headset.  , Easy to wear.  , Light weight and easy to wear.  , For IP telephony, no echo heard by those on the far end and they also can't tell that you're not using a handset.  , Comfortable to wear for hours, long-lived battery, and slick magnet system to positively engage charging.  , Once I got used to it, I like the over-the-ear headset.  , As far as i am concerned, these are the best headsets on the market.  They are lightweight and very comfortable to wear all day.  , it came with 4 extra ear buds, 2 foam and to silicone, and different sizes., I had the old version and this one is much easier to use- sound is clear, set up is pretty straight forward., Another issue with this headset is that it will whistle (very loudly) in my ear while on the phone., The caller also hears it and is NOT good for business., Ear piece does not fit charger holder properly., I used the earlier model for about 4 years, no problem except one: it was difficult to place the headset in the charger properly, to make sure it's recharging., It works perfectly and is very comfortable to wear... I forget I have it on most of the time., Customers can here me clearly and it feels great around my ear.  , It's clear, lasts along time, has good range.  , I wear glasses, and it's not the best fit but works fine.  , I'm able to stick it in my ear quickly when I get a call.  , You press a button on the side of the unit to turn it on, then you press the \"headset\" button on your phone, and then you get the dial tone in your ear.  , Callers have said voice is very clear, had no idea I was on a headset., Would work OK for a random amount of time, then a loud buzz would occur and required shutting off the headset and then turning on again to clear., I now have to research & find another wireless headset that does but by then won't be able to return this item.  , I have this one and an older one that I have been using for two year.  , What I Like:-Docking system makes this headset simple to use and keep charged-Can quickly take the headset off the dock and put in ear when the phone rings - don't have to wear it constantly-Great call quality on both ends-Good volume controls-Easy to set up, just plug-and-play-Good range - I can walk around the whole office on the phone (not that I really ever do)-Sleek look-Comfortable - comes with many ear-tips for a custom fit that's easy to swap-Simple but effective indicator lightsWhat I don't like:-Behind-the-ear piece is a tad bulky (though not terribly so)-I can't answer the phone away from my desk - you have to lift the physical receiver.  , Also the ear pieces were fuzzy instead of brand new foam., the headset works fine, but I have a hard time keeping it behind my ear because of it's thickness.  , The headset is very comfortable and it has switchable ear plugs so you can customize it to your ear., The only downside to the headset is that the part hooks to your ear is a little too big for my ear, so I have to readjust it about four times a day (which is not too inconvenient)., I shopped for a long time on wireless ear peices for my office phone.  , This model is a little bit more expensive then some of the others, but once I received, it was clear why.  , Light weight on my ear, easy to adjust boom, and super simple set up.  , My only complaint is when changing the ear mold, it is really difficult to switch them out.  , Ear pieces may not apepal to everyone., Very clear crisp line I praise this ear piece!, The base unit has lights that really do help to know if your ear piece is charged or charging., It fits well on the ear and didn't take long to charge before using.  , The quality talking on it is great, never a problem hearing the person on the other end, and it works hundreds of feet away from my desk so I can answer calls and talk on the phone from the warehouse or the kitchen.  , I'm told my voice comes through clearly and the audio is great., The second issue is with the earpieces.  , I can't see how they'd fit anyone's ear very well., I purchased this headset to replace my old Plantronics CS70 headset which has been my workhorse for the past 8 years., My voice is transmitted crystal clear as are the voices with those I speak., I'm very satisfied with this product and I'm looking forward to many years of great performance from it., I have owned several of these over the years.  , We have used Plantronics products for years....just another great product.  , I owned a corded headset for years and it worked well.  , Very clear voice calls.  , a little bulky to wear, but over all ok, I wouldn't recommend it to anyone who wears them all day, One drawback with Pantronics CS530 when compared to an earlier version I owned before this one is that the CS530's headset battery dies a lot faster than the model I replaced., everything is good except when some people can't hear me, as soon as i turn up the mic volume i can hear myself echo while i'm talking.other than that no complaints., Love this equipment..  Team can't live without it.. We have had them for over a year and they still work great, The sound always was slightly distorted and people on the other end complained of sound not being clear., Crystal clear reception and speech., The earpiece is quite comfortable, docking it into the charger is easy, and setup was simple.  , Instructions clearly detailed what settings to change in case of interference (which I did initially have).  ]\n"
     ]
    }
   ],
   "source": [
    "# extract all review sentences that contains the term - ear\n",
    "from __future__ import unicode_literals\n",
    "import spacy\n",
    "from spacy.en import English\n",
    "import re\n",
    "\n",
    "doc = asin_reviews\n",
    "ear_sents = []\n",
    "for item in doc:\n",
    "    document = unicode(str(item), encoding='utf-8')\n",
    "    parser = English()\n",
    "    parsed_doc = parser(document)\n",
    "    earlist = [sent for sent in parsed_doc.sents\n",
    "                       if 'ear' in sent.string.lower()]\n",
    "    ear_sents += earlist\n",
    "print ear_sents"
   ]
  },
  {
   "cell_type": "code",
   "execution_count": null,
   "metadata": {
    "collapsed": false
   },
   "outputs": [],
   "source": [
    "earlist = ear_sents\n",
    "pickle.dump(earlist, open(\"ear_sentences_10000.p\", \"wb\"))"
   ]
  },
  {
   "cell_type": "code",
   "execution_count": 29,
   "metadata": {
    "collapsed": false
   },
   "outputs": [
    {
     "name": "stdout",
     "output_type": "stream",
     "text": [
      "[(3.0, 'this product is ok.  not great or poor.  the design is great.  sound quality is good but kind of a hassle to line up the charging.  Had some trouble so I returned it'), (3.0, \"I love having the room to move around and talk while I work.  But the earpiece occasionally shrieks in my ear.  It's not completely horrible, I can deal with it.  But I was expecting more.  Especially for the price.\"), (3.0, 'The comfort is there, but the performance is not. I had an older Plantronics headset that worked far better and the range was farther as well. This one you can only walk MAYBE 7 ft from the base before distortion and loosing signal or even dropping the call. I would look at another headset before considering this one. Go back to the drawing board Plantronics and try again!'), (1.0, \"Hard to review a product that doesn't work. I'm currently returning it for a replacement and will see if that one works.\"), (2.0, \"I was VERY disapointed to find out this unit needs yet ANOTHER part ($89.00) for it to be a hands free unit. I feel I didn't get all the information needed to make an informed decision.  Another issue with this headset is that it will whistle (very loudly) in my ear while on the phone. The caller also hears it and is NOT good for business. I have followed the instructions about the distance it should be from the phone and it continues to whistle from time to time.  I do like the idea of the headset but am very disapointed about it's quality and the fact I still have to lift the hand set to answer the phone.\"), (1.0, \"Sound quality not good. Echos voices.Ear piece does not fit charger holder properly. One has to play it to  make connection to ensure charging.Instuctions are very insufficient, especially trying to sync device.  Don't waste your time with the toll number to check sound etc.Buy another brand. At least not any of the 5500 series.\"), (1.0, 'Would work OK for a random amount of time, then a loud buzz would occur and required shutting off the headset and then turning on again to clear. Tried all the different channels and adjusting the mike volume, moving the power cable/plug, but nothing worked until one particularly stressful day when it happened again. The headset was removed and rapidly accelerated until impacting my desk. Problem solved. Good bye, good ridance.'), (1.0, 'There was no informationt that stated I would need another part to connect to my phone so it I could answer phone while not at my desk.  I need to return this one as I have found another headset that works well with my phone. Thanks.Please advise as to how I can return.'), (3.0, \"the headset works fine, but I have a hard time keeping it behind my ear because of it's thickness.  I wish it was thinner\"), (2.0, \"I've owned the older models...went to replace the last one with this one...I am sending it back and hoping to find a replacement headset only for the old model.  This new model has a hissing sound that pops up while i walk around my office...  Called tech support...they tried to troubleshoot.  No luck.  (BTW...tech support is a little grumpy.)  The static occurs even when I am 15 ft from the base.  Shame.\"), (3.0, \"The headset itself is great.  I'm told my voice comes through clearly and the audio is great.The weakest feature of this headset is how mute is handled.  There is no indication via the headset itself that you're on or off mute.  This didn't seem like it'd be a big problem at first.  But when you're away from the base and can't squint to see the little lights in the bottom left-hand corner of the base, there's no way to know you're on or off mute.  There's no tone that indicates your on mute like there was on the CS50.  This is such a problem that, for this reason alone, I'd recommend not to buy this unit.The second issue is with the earpieces.  I can't see how they'd fit anyone's ear very well.\"), (3.0, \"Worked for about two hours fine. Ran errands for about 3 hours, and when I came back it wouldn't work at all. Can't tell if it's charged other then magnetic connection seems ok.  Connected my old cs55 it worked fine. Needless to say I'm returning the cs530.Apparently the first unit I received was defective and wouldn't charge. My replacement it working great, and if the unit doesn't display the green light to the right something is wrong. Now it lights up when charged, and blinks when charging.Giving it 3 stars for the trouble, but so far it's been pretty good.\"), (2.0, 'I have owned several of these over the years.  I purchase them for my sales team.  The last three I bought in 2008 and they were 70n models.  They have been prety good so I bought this one to replace one that was broke.  These are made much worse in quality materials and we could not get the sound quality to be god enough to use.  We sent it back adn got another and after the same issue on both we decided to return them and look for something else.'), (3.0, \"a little bulky to wear, but over all ok, I wouldn't recommend it to anyone who wears them all day\"), (1.0, \"I Ordered a new one and recived a used one. It had fingerprints all over it and head set had scratches on it. it's a good head set but if you think you are going to get a new one think again.\"), (3.0, \"everything is good except when some people can't hear me, as soon as i turn up the mic volume i can hear myself echo while i'm talking.other than that no complaints.\")]\n"
     ]
    }
   ],
   "source": [
    "doc = asin_reviews\n",
    "pos_tuples = []\n",
    "neg_tuples = []\n",
    "pos_doc = []\n",
    "neg_doc =[]\n",
    "\n",
    "for i in range(len(asin_table)):\n",
    "    if asin_table['rating'][i] >= 4.0:\n",
    "        pos_doc.append(asin_table['review'][i])\n",
    "        pos_tuples.append((asin_table['rating'][i],asin_table['review'][i]))\n",
    "    else:\n",
    "        neg_doc.append(asin_table['review'][i])\n",
    "        neg_tuples.append((asin_table['rating'][i],asin_table['review'][i]))\n",
    "\n",
    "print neg_tuples"
   ]
  },
  {
   "cell_type": "code",
   "execution_count": null,
   "metadata": {
    "collapsed": false
   },
   "outputs": [],
   "source": [
    "# extract all review sentences that contains the term - sound\n",
    "from __future__ import unicode_literals\n",
    "import spacy\n",
    "from spacy.en import English\n",
    "import re \n",
    "\n",
    "pos_sound_sents = []\n",
    "for item in pos_tuples:\n",
    "    document = unicode(str(item[1]), encoding='utf-8')\n",
    "    parser = English()\n",
    "    parsed_doc = parser(document)\n",
    "    soundlist = [(item[0],sent) for sent in parsed_doc.sents\n",
    "                       if 'sound' in sent.string.lower()]\n",
    "    pos_sound_sents += soundlist\n",
    "print pos_sound_sents"
   ]
  },
  {
   "cell_type": "code",
   "execution_count": null,
   "metadata": {
    "collapsed": false
   },
   "outputs": [],
   "source": [
    "# extract all review sentences that contains the term - sound\n",
    "from __future__ import unicode_literals\n",
    "import spacy\n",
    "from spacy.en import English\n",
    "import re\n",
    "\n",
    "#doc = reviews[0:9]\n",
    "doc = neg_reviews[0:10]\n",
    "neg_sound_sents = []\n",
    "for item in doc:\n",
    "    document = unicode(str(item), encoding='utf-8')\n",
    "    parser = English()\n",
    "    parsed_doc = parser(document)\n",
    "    soundlist = [sent for sent in parsed_doc.sents\n",
    "                       if 'sound' in sent.string.lower()]\n",
    "    neg_sound_sents += soundlist\n",
    "print neg_sound_sents"
   ]
  }
 ],
 "metadata": {
  "kernelspec": {
   "display_name": "Python 2",
   "language": "python",
   "name": "python2"
  },
  "language_info": {
   "codemirror_mode": {
    "name": "ipython",
    "version": 2
   },
   "file_extension": ".py",
   "mimetype": "text/x-python",
   "name": "python",
   "nbconvert_exporter": "python",
   "pygments_lexer": "ipython2",
   "version": "2.7.13"
  }
 },
 "nbformat": 4,
 "nbformat_minor": 0
}
